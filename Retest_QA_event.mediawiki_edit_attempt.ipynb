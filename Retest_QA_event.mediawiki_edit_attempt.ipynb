{
 "cells": [
  {
   "cell_type": "markdown",
   "id": "1b2fbb41-0589-4a5d-9646-20d910ae680f",
   "metadata": {
    "tags": []
   },
   "source": [
    "# Re test mediawiki_edit_attempt\n",
    "Following up on the task Instrumentation Data-QA for event.mediawiki_edit_attempt [T320281](https://phabricator.wikimedia.org/T320281).   \n",
    "The first phase of this testing was conducted in Nov 2022. Several issues were highlighted and discussed. I re tested the data again in January 2023 and found that   \n",
    "\n",
    "On Desktop    \n",
    "- server side wikitext editor (all Save and Init) events were not being logged  \n",
    "- only client side (ready, loaded, firstchange, abort) events are logged \n",
    "\n",
    "On Mobile\n",
    "- some wiki editor Mobile events were being logged using `wt` and `mf` mediawiki extensions i.e. the same events were being logged twice and double counted. After discussing with @phuedx, this seems to be an issue affecting both Metrics Platform edit_attempt instrument as well as legacy editattemptstep instrument and happens when the user navigates to `/wiki/$title?action=edit` on a mobile device.. `/wiki/$title?action=edit` is the url when editing on desktop. on mobile the editing url looks something like .. `/wiki/$title#/editor/section#` so this issue happens with anyone who edits on a mobile device using a desktop edit link.\n",
    "\n",
    "## Action items from QA test\n",
    "- get server side events logging on Metrics Platform  \n",
    "- enable wikitext logging on Metrics platform  "
   ]
  },
  {
   "cell_type": "code",
   "execution_count": 1,
   "id": "c95a9e12-6ac0-4d83-849e-25c3f952a8c1",
   "metadata": {},
   "outputs": [
    {
     "name": "stderr",
     "output_type": "stream",
     "text": [
      "The check for a newer release of wmfdata failed to complete. Consider checking manually.\n"
     ]
    }
   ],
   "source": [
    "from wmfdata import hive, spark"
   ]
  },
  {
   "cell_type": "markdown",
   "id": "da21da35-0889-4eef-955f-b4a47c76b876",
   "metadata": {},
   "source": [
    "### Compare between editattemptstep and mediawiki_edit_attempt\n",
    "#### 1. wikitext events"
   ]
  },
  {
   "cell_type": "code",
   "execution_count": 11,
   "id": "64884188-fa53-4fd8-b2d7-bec005278d58",
   "metadata": {},
   "outputs": [
    {
     "name": "stderr",
     "output_type": "stream",
     "text": [
      "PySpark executors will use /usr/lib/anaconda-wmf/bin/python3.\n",
      "                                                                                \r"
     ]
    }
   ],
   "source": [
    "wt_eas_query=spark.run('''\n",
    "SELECT \n",
    "  DISTINCT event.action AS action, \n",
    "  event.platform AS platform,\n",
    "  count(1) AS wikitext_events\n",
    "  FROM event.editattemptstep\n",
    "  WHERE event.editor_interface = 'wikitext'\n",
    "  AND year = 2023\n",
    "  AND month= 1\n",
    "  AND wiki = 'testwiki' \n",
    "  GROUP BY action, platform\n",
    "''')"
   ]
  },
  {
   "cell_type": "code",
   "execution_count": 100,
   "id": "8630ab5e-3c5b-4df2-a2ee-9246e427abd7",
   "metadata": {},
   "outputs": [
    {
     "data": {
      "text/html": [
       "<div>\n",
       "<style scoped>\n",
       "    .dataframe tbody tr th:only-of-type {\n",
       "        vertical-align: middle;\n",
       "    }\n",
       "\n",
       "    .dataframe tbody tr th {\n",
       "        vertical-align: top;\n",
       "    }\n",
       "\n",
       "    .dataframe thead th {\n",
       "        text-align: right;\n",
       "    }\n",
       "</style>\n",
       "<table border=\"1\" class=\"dataframe\">\n",
       "  <thead>\n",
       "    <tr style=\"text-align: right;\">\n",
       "      <th></th>\n",
       "      <th>action</th>\n",
       "      <th>platform</th>\n",
       "      <th>wikitext_events</th>\n",
       "    </tr>\n",
       "  </thead>\n",
       "  <tbody>\n",
       "    <tr>\n",
       "      <th>13</th>\n",
       "      <td>init</td>\n",
       "      <td>desktop</td>\n",
       "      <td>3575</td>\n",
       "    </tr>\n",
       "    <tr>\n",
       "      <th>3</th>\n",
       "      <td>saveAttempt</td>\n",
       "      <td>desktop</td>\n",
       "      <td>1541</td>\n",
       "    </tr>\n",
       "    <tr>\n",
       "      <th>6</th>\n",
       "      <td>saveFailure</td>\n",
       "      <td>desktop</td>\n",
       "      <td>1073</td>\n",
       "    </tr>\n",
       "    <tr>\n",
       "      <th>10</th>\n",
       "      <td>ready</td>\n",
       "      <td>desktop</td>\n",
       "      <td>744</td>\n",
       "    </tr>\n",
       "    <tr>\n",
       "      <th>9</th>\n",
       "      <td>loaded</td>\n",
       "      <td>desktop</td>\n",
       "      <td>743</td>\n",
       "    </tr>\n",
       "    <tr>\n",
       "      <th>16</th>\n",
       "      <td>saveSuccess</td>\n",
       "      <td>desktop</td>\n",
       "      <td>464</td>\n",
       "    </tr>\n",
       "    <tr>\n",
       "      <th>1</th>\n",
       "      <td>firstChange</td>\n",
       "      <td>desktop</td>\n",
       "      <td>337</td>\n",
       "    </tr>\n",
       "    <tr>\n",
       "      <th>8</th>\n",
       "      <td>abort</td>\n",
       "      <td>desktop</td>\n",
       "      <td>252</td>\n",
       "    </tr>\n",
       "    <tr>\n",
       "      <th>4</th>\n",
       "      <td>init</td>\n",
       "      <td>phone</td>\n",
       "      <td>39</td>\n",
       "    </tr>\n",
       "    <tr>\n",
       "      <th>14</th>\n",
       "      <td>ready</td>\n",
       "      <td>phone</td>\n",
       "      <td>38</td>\n",
       "    </tr>\n",
       "    <tr>\n",
       "      <th>12</th>\n",
       "      <td>loaded</td>\n",
       "      <td>phone</td>\n",
       "      <td>38</td>\n",
       "    </tr>\n",
       "    <tr>\n",
       "      <th>7</th>\n",
       "      <td>abort</td>\n",
       "      <td>phone</td>\n",
       "      <td>12</td>\n",
       "    </tr>\n",
       "    <tr>\n",
       "      <th>0</th>\n",
       "      <td>saveAttempt</td>\n",
       "      <td>phone</td>\n",
       "      <td>7</td>\n",
       "    </tr>\n",
       "    <tr>\n",
       "      <th>15</th>\n",
       "      <td>saveSuccess</td>\n",
       "      <td>phone</td>\n",
       "      <td>6</td>\n",
       "    </tr>\n",
       "    <tr>\n",
       "      <th>2</th>\n",
       "      <td>saveIntent</td>\n",
       "      <td>phone</td>\n",
       "      <td>6</td>\n",
       "    </tr>\n",
       "    <tr>\n",
       "      <th>5</th>\n",
       "      <td>firstChange</td>\n",
       "      <td>phone</td>\n",
       "      <td>6</td>\n",
       "    </tr>\n",
       "    <tr>\n",
       "      <th>11</th>\n",
       "      <td>saveFailure</td>\n",
       "      <td>phone</td>\n",
       "      <td>1</td>\n",
       "    </tr>\n",
       "  </tbody>\n",
       "</table>\n",
       "</div>"
      ],
      "text/plain": [
       "         action platform  wikitext_events\n",
       "13         init  desktop             3575\n",
       "3   saveAttempt  desktop             1541\n",
       "6   saveFailure  desktop             1073\n",
       "10        ready  desktop              744\n",
       "9        loaded  desktop              743\n",
       "16  saveSuccess  desktop              464\n",
       "1   firstChange  desktop              337\n",
       "8         abort  desktop              252\n",
       "4          init    phone               39\n",
       "14        ready    phone               38\n",
       "12       loaded    phone               38\n",
       "7         abort    phone               12\n",
       "0   saveAttempt    phone                7\n",
       "15  saveSuccess    phone                6\n",
       "2    saveIntent    phone                6\n",
       "5   firstChange    phone                6\n",
       "11  saveFailure    phone                1"
      ]
     },
     "execution_count": 100,
     "metadata": {},
     "output_type": "execute_result"
    }
   ],
   "source": [
    "wt_eas_query.sort_values(by=['wikitext_events','action'],ascending=False)"
   ]
  },
  {
   "cell_type": "code",
   "execution_count": 9,
   "id": "5f480618-a255-4588-833d-63e19c994a34",
   "metadata": {},
   "outputs": [
    {
     "data": {
      "text/plain": [
       "8882"
      ]
     },
     "execution_count": 9,
     "metadata": {},
     "output_type": "execute_result"
    }
   ],
   "source": [
    "wt_eas_query.wikitext_events.sum()"
   ]
  },
  {
   "cell_type": "code",
   "execution_count": 5,
   "id": "d7774b21-10d6-4e01-bf5c-1be40df4fc79",
   "metadata": {},
   "outputs": [
    {
     "name": "stderr",
     "output_type": "stream",
     "text": [
      "PySpark executors will use /usr/lib/anaconda-wmf/bin/python3.\n",
      "                                                                                \r"
     ]
    }
   ],
   "source": [
    "wt_mea_query= spark.run('''\n",
    "SELECT \n",
    "  DISTINCT name, \n",
    "  count(1) AS wikitext_events\n",
    "  FROM event.mediawiki_edit_attempt\n",
    "  WHERE custom_data[\"editor_interface\"].value = \"wikitext\"\n",
    "  AND year = 2023\n",
    "  AND month= 1\n",
    "  AND mediawiki.database = \"testwiki\"\n",
    "  GROUP BY name\n",
    "''')\n"
   ]
  },
  {
   "cell_type": "code",
   "execution_count": 6,
   "id": "5d9fefe8-56cc-4406-a902-544a91cbe8c2",
   "metadata": {},
   "outputs": [
    {
     "data": {
      "text/html": [
       "<div>\n",
       "<style scoped>\n",
       "    .dataframe tbody tr th:only-of-type {\n",
       "        vertical-align: middle;\n",
       "    }\n",
       "\n",
       "    .dataframe tbody tr th {\n",
       "        vertical-align: top;\n",
       "    }\n",
       "\n",
       "    .dataframe thead th {\n",
       "        text-align: right;\n",
       "    }\n",
       "</style>\n",
       "<table border=\"1\" class=\"dataframe\">\n",
       "  <thead>\n",
       "    <tr style=\"text-align: right;\">\n",
       "      <th></th>\n",
       "      <th>name</th>\n",
       "      <th>wikitext_events</th>\n",
       "    </tr>\n",
       "  </thead>\n",
       "  <tbody>\n",
       "    <tr>\n",
       "      <th>3</th>\n",
       "      <td>eas.wt.ready</td>\n",
       "      <td>744</td>\n",
       "    </tr>\n",
       "    <tr>\n",
       "      <th>0</th>\n",
       "      <td>eas.wt.loaded</td>\n",
       "      <td>743</td>\n",
       "    </tr>\n",
       "    <tr>\n",
       "      <th>6</th>\n",
       "      <td>eas.wt.first_change</td>\n",
       "      <td>337</td>\n",
       "    </tr>\n",
       "    <tr>\n",
       "      <th>7</th>\n",
       "      <td>eas.wt.abort</td>\n",
       "      <td>252</td>\n",
       "    </tr>\n",
       "    <tr>\n",
       "      <th>4</th>\n",
       "      <td>eas.mf.init</td>\n",
       "      <td>39</td>\n",
       "    </tr>\n",
       "    <tr>\n",
       "      <th>2</th>\n",
       "      <td>eas.mf.ready</td>\n",
       "      <td>38</td>\n",
       "    </tr>\n",
       "    <tr>\n",
       "      <th>12</th>\n",
       "      <td>eas.mf.loaded</td>\n",
       "      <td>38</td>\n",
       "    </tr>\n",
       "    <tr>\n",
       "      <th>11</th>\n",
       "      <td>eas.mf.abort</td>\n",
       "      <td>12</td>\n",
       "    </tr>\n",
       "    <tr>\n",
       "      <th>10</th>\n",
       "      <td>eas.mf.save_attempt</td>\n",
       "      <td>7</td>\n",
       "    </tr>\n",
       "    <tr>\n",
       "      <th>8</th>\n",
       "      <td>eas.mf.save_success</td>\n",
       "      <td>6</td>\n",
       "    </tr>\n",
       "    <tr>\n",
       "      <th>5</th>\n",
       "      <td>eas.mf.save_intent</td>\n",
       "      <td>6</td>\n",
       "    </tr>\n",
       "    <tr>\n",
       "      <th>9</th>\n",
       "      <td>eas.mf.first_change</td>\n",
       "      <td>6</td>\n",
       "    </tr>\n",
       "    <tr>\n",
       "      <th>1</th>\n",
       "      <td>eas.mf.save_failure</td>\n",
       "      <td>1</td>\n",
       "    </tr>\n",
       "  </tbody>\n",
       "</table>\n",
       "</div>"
      ],
      "text/plain": [
       "                   name  wikitext_events\n",
       "3          eas.wt.ready              744\n",
       "0         eas.wt.loaded              743\n",
       "6   eas.wt.first_change              337\n",
       "7          eas.wt.abort              252\n",
       "4           eas.mf.init               39\n",
       "2          eas.mf.ready               38\n",
       "12        eas.mf.loaded               38\n",
       "11         eas.mf.abort               12\n",
       "10  eas.mf.save_attempt                7\n",
       "8   eas.mf.save_success                6\n",
       "5    eas.mf.save_intent                6\n",
       "9   eas.mf.first_change                6\n",
       "1   eas.mf.save_failure                1"
      ]
     },
     "execution_count": 6,
     "metadata": {},
     "output_type": "execute_result"
    }
   ],
   "source": [
    "wt_mea_query.sort_values(by=['wikitext_events','name'],ascending=False)"
   ]
  },
  {
   "cell_type": "code",
   "execution_count": 10,
   "id": "1164fe75-27da-421e-af95-28d07ba61ac6",
   "metadata": {},
   "outputs": [
    {
     "data": {
      "text/plain": [
       "2229"
      ]
     },
     "execution_count": 10,
     "metadata": {},
     "output_type": "execute_result"
    }
   ],
   "source": [
    "wt_mea_query.wikitext_events.sum()"
   ]
  },
  {
   "cell_type": "markdown",
   "id": "203ad8fe-88b6-4880-ad75-a1fbe47a741d",
   "metadata": {},
   "source": [
    "`event.mediawiki_edit_attemp` has fewer wikitext events than `editattemptstep`. We are missing the following action events from desktop wikitext editor `eas.wt` in `mediawiki_edit_attempt`\n",
    "- init\n",
    "- save_attempt\n",
    "- save_intent\n",
    "- save_success  \n",
    "\n",
    "From @cjming and @phuedx: \"metrics platform client is only wired in the js for WikiEditor. since the PHP version of the Metrics Platform Client still hasn't been merged, we can't offer perfect parity for EAS\"  \n",
    "From @EChetty: we are blocked by [T281762](https://phabricator.wikimedia.org/T281762) to track the sever-side events.  \n",
    "\n",
    "Also, `eas.mf` is the mobile frontend extension on mediawiki and `mediawiki_edit_attempt` is capturing all the mobile events correctly. "
   ]
  },
  {
   "cell_type": "markdown",
   "id": "e068c1e4-c754-4267-a3bc-b86506dea6fd",
   "metadata": {},
   "source": [
    "### 2. VE events"
   ]
  },
  {
   "cell_type": "code",
   "execution_count": 18,
   "id": "b6606244-709d-4c7c-85cf-3e1c61dd5750",
   "metadata": {},
   "outputs": [
    {
     "name": "stderr",
     "output_type": "stream",
     "text": [
      "PySpark executors will use /usr/lib/anaconda-wmf/bin/python3.\n",
      "23/03/02 22:57:31 WARN SparkConf: Note that spark.local.dir will be overridden by the value set by the cluster manager (via SPARK_LOCAL_DIRS in mesos/standalone/kubernetes and LOCAL_DIRS in YARN).\n",
      "23/03/02 22:57:31 WARN Utils: Service 'sparkDriver' could not bind on port 12000. Attempting port 12001.\n",
      "23/03/02 22:57:31 WARN Utils: Service 'sparkDriver' could not bind on port 12001. Attempting port 12002.\n",
      "23/03/02 22:57:31 WARN Utils: Service 'sparkDriver' could not bind on port 12002. Attempting port 12003.\n",
      "23/03/02 22:57:31 WARN Utils: Service 'sparkDriver' could not bind on port 12003. Attempting port 12004.\n",
      "23/03/02 22:57:32 WARN Utils: Service 'SparkUI' could not bind on port 4040. Attempting port 4041.\n",
      "23/03/02 22:57:32 WARN Utils: Service 'SparkUI' could not bind on port 4041. Attempting port 4042.\n",
      "23/03/02 22:57:32 WARN Utils: Service 'SparkUI' could not bind on port 4042. Attempting port 4043.\n",
      "23/03/02 22:57:32 WARN Utils: Service 'SparkUI' could not bind on port 4043. Attempting port 4044.\n",
      "23/03/02 22:57:58 WARN Utils: Service 'org.apache.spark.network.netty.NettyBlockTransferService' could not bind on port 13000. Attempting port 13001.\n",
      "23/03/02 22:57:58 WARN Utils: Service 'org.apache.spark.network.netty.NettyBlockTransferService' could not bind on port 13001. Attempting port 13002.\n",
      "23/03/02 22:57:58 WARN Utils: Service 'org.apache.spark.network.netty.NettyBlockTransferService' could not bind on port 13002. Attempting port 13003.\n",
      "23/03/02 22:57:58 WARN Utils: Service 'org.apache.spark.network.netty.NettyBlockTransferService' could not bind on port 13003. Attempting port 13004.\n",
      "23/03/02 22:57:58 WARN YarnSchedulerBackend$YarnSchedulerEndpoint: Attempted to request executors before the AM has registered!\n",
      "                                                                                \r"
     ]
    }
   ],
   "source": [
    "ve_eas_query=spark.run('''\n",
    "SELECT \n",
    "  DISTINCT event.action AS action, \n",
    "  count(1) AS ve_events\n",
    "  FROM event.editattemptstep\n",
    "  WHERE event.editor_interface = 'visualeditor'\n",
    "  AND year = 2023\n",
    "  AND month= 1\n",
    "  AND wiki = 'testwiki' \n",
    "  GROUP BY action\n",
    "''')"
   ]
  },
  {
   "cell_type": "code",
   "execution_count": 19,
   "id": "8bc919bf-a26b-4554-baf4-f0027e47da60",
   "metadata": {},
   "outputs": [
    {
     "data": {
      "text/plain": [
       "996"
      ]
     },
     "execution_count": 19,
     "metadata": {},
     "output_type": "execute_result"
    }
   ],
   "source": [
    "ve_eas_query.ve_events.sum()"
   ]
  },
  {
   "cell_type": "code",
   "execution_count": 23,
   "id": "e6d97530-7df3-421e-b947-f9a15437d952",
   "metadata": {},
   "outputs": [
    {
     "name": "stderr",
     "output_type": "stream",
     "text": [
      "PySpark executors will use /usr/lib/anaconda-wmf/bin/python3.\n",
      "                                                                                \r"
     ]
    }
   ],
   "source": [
    "ve_mea_query= spark.run('''\n",
    "SELECT \n",
    "  DISTINCT name, \n",
    "  count(1) AS ve_events\n",
    "  FROM event.mediawiki_edit_attempt\n",
    "  WHERE custom_data[\"editor_interface\"].value = \"visualeditor\"\n",
    "  AND year = 2023\n",
    "  AND month= 1\n",
    "  AND mediawiki.database = \"testwiki\"\n",
    "  GROUP BY name\n",
    "''')\n"
   ]
  },
  {
   "cell_type": "code",
   "execution_count": 24,
   "id": "12b5edbd-11ff-49df-923e-9edbef4f412e",
   "metadata": {},
   "outputs": [
    {
     "data": {
      "text/plain": [
       "997"
      ]
     },
     "execution_count": 24,
     "metadata": {},
     "output_type": "execute_result"
    }
   ],
   "source": [
    "ve_mea_query.ve_events.sum()"
   ]
  },
  {
   "cell_type": "code",
   "execution_count": 27,
   "id": "b3012996-3f39-4b8f-88aa-23f6f24f404c",
   "metadata": {},
   "outputs": [
    {
     "data": {
      "text/html": [
       "<div>\n",
       "<style scoped>\n",
       "    .dataframe tbody tr th:only-of-type {\n",
       "        vertical-align: middle;\n",
       "    }\n",
       "\n",
       "    .dataframe tbody tr th {\n",
       "        vertical-align: top;\n",
       "    }\n",
       "\n",
       "    .dataframe thead th {\n",
       "        text-align: right;\n",
       "    }\n",
       "</style>\n",
       "<table border=\"1\" class=\"dataframe\">\n",
       "  <thead>\n",
       "    <tr style=\"text-align: right;\">\n",
       "      <th></th>\n",
       "      <th>action</th>\n",
       "      <th>ve_events</th>\n",
       "    </tr>\n",
       "  </thead>\n",
       "  <tbody>\n",
       "    <tr>\n",
       "      <th>2</th>\n",
       "      <td>init</td>\n",
       "      <td>193</td>\n",
       "    </tr>\n",
       "    <tr>\n",
       "      <th>3</th>\n",
       "      <td>ready</td>\n",
       "      <td>187</td>\n",
       "    </tr>\n",
       "    <tr>\n",
       "      <th>1</th>\n",
       "      <td>loaded</td>\n",
       "      <td>187</td>\n",
       "    </tr>\n",
       "    <tr>\n",
       "      <th>5</th>\n",
       "      <td>abort</td>\n",
       "      <td>100</td>\n",
       "    </tr>\n",
       "    <tr>\n",
       "      <th>4</th>\n",
       "      <td>firstChange</td>\n",
       "      <td>89</td>\n",
       "    </tr>\n",
       "    <tr>\n",
       "      <th>6</th>\n",
       "      <td>saveAttempt</td>\n",
       "      <td>81</td>\n",
       "    </tr>\n",
       "    <tr>\n",
       "      <th>0</th>\n",
       "      <td>saveIntent</td>\n",
       "      <td>79</td>\n",
       "    </tr>\n",
       "    <tr>\n",
       "      <th>7</th>\n",
       "      <td>saveSuccess</td>\n",
       "      <td>72</td>\n",
       "    </tr>\n",
       "    <tr>\n",
       "      <th>8</th>\n",
       "      <td>saveFailure</td>\n",
       "      <td>8</td>\n",
       "    </tr>\n",
       "  </tbody>\n",
       "</table>\n",
       "</div>"
      ],
      "text/plain": [
       "        action  ve_events\n",
       "2         init        193\n",
       "3        ready        187\n",
       "1       loaded        187\n",
       "5        abort        100\n",
       "4  firstChange         89\n",
       "6  saveAttempt         81\n",
       "0   saveIntent         79\n",
       "7  saveSuccess         72\n",
       "8  saveFailure          8"
      ]
     },
     "execution_count": 27,
     "metadata": {},
     "output_type": "execute_result"
    }
   ],
   "source": [
    "ve_eas_query.sort_values(by=['ve_events','action'],ascending=False)"
   ]
  },
  {
   "cell_type": "code",
   "execution_count": 28,
   "id": "adfa3407-2540-4940-8024-4228ccd220e3",
   "metadata": {},
   "outputs": [
    {
     "data": {
      "text/html": [
       "<div>\n",
       "<style scoped>\n",
       "    .dataframe tbody tr th:only-of-type {\n",
       "        vertical-align: middle;\n",
       "    }\n",
       "\n",
       "    .dataframe tbody tr th {\n",
       "        vertical-align: top;\n",
       "    }\n",
       "\n",
       "    .dataframe thead th {\n",
       "        text-align: right;\n",
       "    }\n",
       "</style>\n",
       "<table border=\"1\" class=\"dataframe\">\n",
       "  <thead>\n",
       "    <tr style=\"text-align: right;\">\n",
       "      <th></th>\n",
       "      <th>name</th>\n",
       "      <th>ve_events</th>\n",
       "    </tr>\n",
       "  </thead>\n",
       "  <tbody>\n",
       "    <tr>\n",
       "      <th>18</th>\n",
       "      <td>eas.ve.init</td>\n",
       "      <td>173</td>\n",
       "    </tr>\n",
       "    <tr>\n",
       "      <th>22</th>\n",
       "      <td>eas.ve.ready</td>\n",
       "      <td>167</td>\n",
       "    </tr>\n",
       "    <tr>\n",
       "      <th>24</th>\n",
       "      <td>eas.ve.loaded</td>\n",
       "      <td>167</td>\n",
       "    </tr>\n",
       "    <tr>\n",
       "      <th>9</th>\n",
       "      <td>eas.ve.abort</td>\n",
       "      <td>92</td>\n",
       "    </tr>\n",
       "    <tr>\n",
       "      <th>3</th>\n",
       "      <td>eas.ve.first_change</td>\n",
       "      <td>78</td>\n",
       "    </tr>\n",
       "    <tr>\n",
       "      <th>23</th>\n",
       "      <td>eas.ve.save_attempt</td>\n",
       "      <td>71</td>\n",
       "    </tr>\n",
       "    <tr>\n",
       "      <th>20</th>\n",
       "      <td>eas.ve.save_intent</td>\n",
       "      <td>68</td>\n",
       "    </tr>\n",
       "    <tr>\n",
       "      <th>15</th>\n",
       "      <td>eas.ve.save_success</td>\n",
       "      <td>63</td>\n",
       "    </tr>\n",
       "    <tr>\n",
       "      <th>7</th>\n",
       "      <td>eas.dt.init</td>\n",
       "      <td>14</td>\n",
       "    </tr>\n",
       "    <tr>\n",
       "      <th>19</th>\n",
       "      <td>eas.dt.ready</td>\n",
       "      <td>11</td>\n",
       "    </tr>\n",
       "    <tr>\n",
       "      <th>1</th>\n",
       "      <td>eas.dt.loaded</td>\n",
       "      <td>11</td>\n",
       "    </tr>\n",
       "    <tr>\n",
       "      <th>8</th>\n",
       "      <td>eas.ve.save_failure</td>\n",
       "      <td>8</td>\n",
       "    </tr>\n",
       "    <tr>\n",
       "      <th>0</th>\n",
       "      <td>eas.mf.ready</td>\n",
       "      <td>8</td>\n",
       "    </tr>\n",
       "    <tr>\n",
       "      <th>21</th>\n",
       "      <td>eas.mf.loaded</td>\n",
       "      <td>8</td>\n",
       "    </tr>\n",
       "    <tr>\n",
       "      <th>4</th>\n",
       "      <td>eas.mf.init</td>\n",
       "      <td>8</td>\n",
       "    </tr>\n",
       "    <tr>\n",
       "      <th>12</th>\n",
       "      <td>eas.dt.save_success</td>\n",
       "      <td>6</td>\n",
       "    </tr>\n",
       "    <tr>\n",
       "      <th>16</th>\n",
       "      <td>eas.dt.save_intent</td>\n",
       "      <td>6</td>\n",
       "    </tr>\n",
       "    <tr>\n",
       "      <th>2</th>\n",
       "      <td>eas.dt.save_attempt</td>\n",
       "      <td>6</td>\n",
       "    </tr>\n",
       "    <tr>\n",
       "      <th>13</th>\n",
       "      <td>eas.dt.first_change</td>\n",
       "      <td>6</td>\n",
       "    </tr>\n",
       "    <tr>\n",
       "      <th>10</th>\n",
       "      <td>eas.dt.abort</td>\n",
       "      <td>6</td>\n",
       "    </tr>\n",
       "    <tr>\n",
       "      <th>5</th>\n",
       "      <td>eas.mf.save_intent</td>\n",
       "      <td>5</td>\n",
       "    </tr>\n",
       "    <tr>\n",
       "      <th>11</th>\n",
       "      <td>eas.mf.first_change</td>\n",
       "      <td>5</td>\n",
       "    </tr>\n",
       "    <tr>\n",
       "      <th>14</th>\n",
       "      <td>eas.mf.save_attempt</td>\n",
       "      <td>4</td>\n",
       "    </tr>\n",
       "    <tr>\n",
       "      <th>6</th>\n",
       "      <td>eas.mf.save_success</td>\n",
       "      <td>3</td>\n",
       "    </tr>\n",
       "    <tr>\n",
       "      <th>17</th>\n",
       "      <td>eas.mf.abort</td>\n",
       "      <td>3</td>\n",
       "    </tr>\n",
       "  </tbody>\n",
       "</table>\n",
       "</div>"
      ],
      "text/plain": [
       "                   name  ve_events\n",
       "18          eas.ve.init        173\n",
       "22         eas.ve.ready        167\n",
       "24        eas.ve.loaded        167\n",
       "9          eas.ve.abort         92\n",
       "3   eas.ve.first_change         78\n",
       "23  eas.ve.save_attempt         71\n",
       "20   eas.ve.save_intent         68\n",
       "15  eas.ve.save_success         63\n",
       "7           eas.dt.init         14\n",
       "19         eas.dt.ready         11\n",
       "1         eas.dt.loaded         11\n",
       "8   eas.ve.save_failure          8\n",
       "0          eas.mf.ready          8\n",
       "21        eas.mf.loaded          8\n",
       "4           eas.mf.init          8\n",
       "12  eas.dt.save_success          6\n",
       "16   eas.dt.save_intent          6\n",
       "2   eas.dt.save_attempt          6\n",
       "13  eas.dt.first_change          6\n",
       "10         eas.dt.abort          6\n",
       "5    eas.mf.save_intent          5\n",
       "11  eas.mf.first_change          5\n",
       "14  eas.mf.save_attempt          4\n",
       "6   eas.mf.save_success          3\n",
       "17         eas.mf.abort          3"
      ]
     },
     "execution_count": 28,
     "metadata": {},
     "output_type": "execute_result"
    }
   ],
   "source": [
    "ve_mea_query.sort_values(by=['ve_events','name'],ascending=False)"
   ]
  },
  {
   "cell_type": "markdown",
   "id": "f81bafe6-4575-4ed3-bc57-7525a37f0c69",
   "metadata": {},
   "source": [
    "All Visual Editor events are being logged successfully"
   ]
  },
  {
   "cell_type": "markdown",
   "id": "6be88041-2510-47ab-9853-e73885cf2004",
   "metadata": {},
   "source": [
    "### 3. Discusstion Tools events"
   ]
  },
  {
   "cell_type": "code",
   "execution_count": 30,
   "id": "c0111dfa-8da0-4dc4-b7b9-24175156ea73",
   "metadata": {},
   "outputs": [
    {
     "name": "stderr",
     "output_type": "stream",
     "text": [
      "PySpark executors will use /usr/lib/anaconda-wmf/bin/python3.\n",
      "                                                                                \r"
     ]
    }
   ],
   "source": [
    "dt_eas_query=spark.run('''\n",
    "SELECT \n",
    "  DISTINCT event.action AS action, \n",
    "  count(1) AS dt_events\n",
    "  FROM event.editattemptstep\n",
    "  WHERE event.editor_interface = 'visualeditor'\n",
    "  AND event.integration='discussiontools'\n",
    "  AND year = 2023\n",
    "  AND month= 2\n",
    "  AND wiki = 'testwiki' \n",
    "  GROUP BY action\n",
    "''')"
   ]
  },
  {
   "cell_type": "code",
   "execution_count": 34,
   "id": "750fea92-102d-48ae-9f8e-19ef44f14076",
   "metadata": {},
   "outputs": [
    {
     "data": {
      "text/html": [
       "<div>\n",
       "<style scoped>\n",
       "    .dataframe tbody tr th:only-of-type {\n",
       "        vertical-align: middle;\n",
       "    }\n",
       "\n",
       "    .dataframe tbody tr th {\n",
       "        vertical-align: top;\n",
       "    }\n",
       "\n",
       "    .dataframe thead th {\n",
       "        text-align: right;\n",
       "    }\n",
       "</style>\n",
       "<table border=\"1\" class=\"dataframe\">\n",
       "  <thead>\n",
       "    <tr style=\"text-align: right;\">\n",
       "      <th></th>\n",
       "      <th>action</th>\n",
       "      <th>dt_events</th>\n",
       "    </tr>\n",
       "  </thead>\n",
       "  <tbody>\n",
       "    <tr>\n",
       "      <th>4</th>\n",
       "      <td>init</td>\n",
       "      <td>9</td>\n",
       "    </tr>\n",
       "    <tr>\n",
       "      <th>3</th>\n",
       "      <td>ready</td>\n",
       "      <td>7</td>\n",
       "    </tr>\n",
       "    <tr>\n",
       "      <th>6</th>\n",
       "      <td>loaded</td>\n",
       "      <td>7</td>\n",
       "    </tr>\n",
       "    <tr>\n",
       "      <th>5</th>\n",
       "      <td>firstChange</td>\n",
       "      <td>6</td>\n",
       "    </tr>\n",
       "    <tr>\n",
       "      <th>8</th>\n",
       "      <td>saveIntent</td>\n",
       "      <td>4</td>\n",
       "    </tr>\n",
       "    <tr>\n",
       "      <th>2</th>\n",
       "      <td>saveAttempt</td>\n",
       "      <td>4</td>\n",
       "    </tr>\n",
       "    <tr>\n",
       "      <th>0</th>\n",
       "      <td>abort</td>\n",
       "      <td>4</td>\n",
       "    </tr>\n",
       "    <tr>\n",
       "      <th>7</th>\n",
       "      <td>saveSuccess</td>\n",
       "      <td>3</td>\n",
       "    </tr>\n",
       "    <tr>\n",
       "      <th>1</th>\n",
       "      <td>saveFailure</td>\n",
       "      <td>1</td>\n",
       "    </tr>\n",
       "  </tbody>\n",
       "</table>\n",
       "</div>"
      ],
      "text/plain": [
       "        action  dt_events\n",
       "4         init          9\n",
       "3        ready          7\n",
       "6       loaded          7\n",
       "5  firstChange          6\n",
       "8   saveIntent          4\n",
       "2  saveAttempt          4\n",
       "0        abort          4\n",
       "7  saveSuccess          3\n",
       "1  saveFailure          1"
      ]
     },
     "execution_count": 34,
     "metadata": {},
     "output_type": "execute_result"
    }
   ],
   "source": [
    "dt_eas_query.sort_values(by=['dt_events','action'], ascending=False)"
   ]
  },
  {
   "cell_type": "code",
   "execution_count": 38,
   "id": "228d504b-8922-425f-a4db-7e3434345e65",
   "metadata": {},
   "outputs": [
    {
     "name": "stderr",
     "output_type": "stream",
     "text": [
      "PySpark executors will use /usr/lib/anaconda-wmf/bin/python3.\n",
      "                                                                                \r"
     ]
    }
   ],
   "source": [
    "dt_mea_query= spark.run('''\n",
    "SELECT \n",
    "  DISTINCT name, \n",
    "  count(1) AS dt_events\n",
    "  FROM event.mediawiki_edit_attempt\n",
    "  WHERE custom_data[\"editor_interface\"].value = \"visualeditor\"\n",
    "  AND name like 'eas.dt%'\n",
    "  AND year = 2023\n",
    "  AND month= 2\n",
    "  AND mediawiki.database = \"testwiki\"\n",
    "  GROUP BY name\n",
    "''')"
   ]
  },
  {
   "cell_type": "code",
   "execution_count": 39,
   "id": "dfa6bdd7-5610-43a9-9573-1b8696f703f1",
   "metadata": {},
   "outputs": [
    {
     "data": {
      "text/html": [
       "<div>\n",
       "<style scoped>\n",
       "    .dataframe tbody tr th:only-of-type {\n",
       "        vertical-align: middle;\n",
       "    }\n",
       "\n",
       "    .dataframe tbody tr th {\n",
       "        vertical-align: top;\n",
       "    }\n",
       "\n",
       "    .dataframe thead th {\n",
       "        text-align: right;\n",
       "    }\n",
       "</style>\n",
       "<table border=\"1\" class=\"dataframe\">\n",
       "  <thead>\n",
       "    <tr style=\"text-align: right;\">\n",
       "      <th></th>\n",
       "      <th>name</th>\n",
       "      <th>dt_events</th>\n",
       "    </tr>\n",
       "  </thead>\n",
       "  <tbody>\n",
       "    <tr>\n",
       "      <th>2</th>\n",
       "      <td>eas.dt.init</td>\n",
       "      <td>9</td>\n",
       "    </tr>\n",
       "    <tr>\n",
       "      <th>8</th>\n",
       "      <td>eas.dt.ready</td>\n",
       "      <td>7</td>\n",
       "    </tr>\n",
       "    <tr>\n",
       "      <th>0</th>\n",
       "      <td>eas.dt.loaded</td>\n",
       "      <td>7</td>\n",
       "    </tr>\n",
       "    <tr>\n",
       "      <th>6</th>\n",
       "      <td>eas.dt.first_change</td>\n",
       "      <td>6</td>\n",
       "    </tr>\n",
       "    <tr>\n",
       "      <th>7</th>\n",
       "      <td>eas.dt.save_intent</td>\n",
       "      <td>4</td>\n",
       "    </tr>\n",
       "    <tr>\n",
       "      <th>1</th>\n",
       "      <td>eas.dt.save_attempt</td>\n",
       "      <td>4</td>\n",
       "    </tr>\n",
       "    <tr>\n",
       "      <th>3</th>\n",
       "      <td>eas.dt.abort</td>\n",
       "      <td>4</td>\n",
       "    </tr>\n",
       "    <tr>\n",
       "      <th>5</th>\n",
       "      <td>eas.dt.save_success</td>\n",
       "      <td>3</td>\n",
       "    </tr>\n",
       "    <tr>\n",
       "      <th>4</th>\n",
       "      <td>eas.dt.save_failure</td>\n",
       "      <td>1</td>\n",
       "    </tr>\n",
       "  </tbody>\n",
       "</table>\n",
       "</div>"
      ],
      "text/plain": [
       "                  name  dt_events\n",
       "2          eas.dt.init          9\n",
       "8         eas.dt.ready          7\n",
       "0        eas.dt.loaded          7\n",
       "6  eas.dt.first_change          6\n",
       "7   eas.dt.save_intent          4\n",
       "1  eas.dt.save_attempt          4\n",
       "3         eas.dt.abort          4\n",
       "5  eas.dt.save_success          3\n",
       "4  eas.dt.save_failure          1"
      ]
     },
     "execution_count": 39,
     "metadata": {},
     "output_type": "execute_result"
    }
   ],
   "source": [
    "dt_mea_query.sort_values(by=['dt_events','name'], ascending=False)"
   ]
  },
  {
   "cell_type": "markdown",
   "id": "76b8bdc4-18f4-46f2-b29d-2285168f4425",
   "metadata": {},
   "source": [
    "Discussion Tools events are logged successfully "
   ]
  },
  {
   "cell_type": "markdown",
   "id": "623bea86-e99e-46ce-9ba3-e859fb3a079e",
   "metadata": {},
   "source": [
    "### 4. Mobile events"
   ]
  },
  {
   "cell_type": "code",
   "execution_count": 41,
   "id": "f4896afe-8b62-4992-97bb-4343d4f92dbb",
   "metadata": {},
   "outputs": [
    {
     "name": "stderr",
     "output_type": "stream",
     "text": [
      "PySpark executors will use /usr/lib/anaconda-wmf/bin/python3.\n",
      "[Stage 25:=====================================================>(252 + 4) / 256]Exception in thread \"serve-DataFrame\" java.net.SocketTimeoutException: Accept timed out\n",
      "\tat java.net.PlainSocketImpl.socketAccept(Native Method)\n",
      "\tat java.net.AbstractPlainSocketImpl.accept(AbstractPlainSocketImpl.java:409)\n",
      "\tat java.net.ServerSocket.implAccept(ServerSocket.java:560)\n",
      "\tat java.net.ServerSocket.accept(ServerSocket.java:528)\n",
      "\tat org.apache.spark.api.python.PythonServer$$anon$1.run(PythonRDD.scala:906)\n",
      "                                                                                \r"
     ]
    }
   ],
   "source": [
    "mf_eas_query=spark.run('''\n",
    "SELECT \n",
    "  DISTINCT event.action AS action, \n",
    "  count(1) AS mobile_events\n",
    "  FROM event.editattemptstep\n",
    "  WHERE event.platform = 'phone'\n",
    "  AND year = 2023\n",
    "  AND month= 2\n",
    "  AND wiki = 'testwiki' \n",
    "  GROUP BY action\n",
    "''')"
   ]
  },
  {
   "cell_type": "code",
   "execution_count": 44,
   "id": "daf6e1e0-e5f6-4677-bd94-49a29d962ac0",
   "metadata": {},
   "outputs": [
    {
     "name": "stderr",
     "output_type": "stream",
     "text": [
      "PySpark executors will use /usr/lib/anaconda-wmf/bin/python3.\n",
      "                                                                                \r"
     ]
    }
   ],
   "source": [
    "mf_mea_query= spark.run('''\n",
    "SELECT \n",
    "  DISTINCT name, \n",
    "  count(1) AS mobile_events\n",
    "  FROM event.mediawiki_edit_attempt\n",
    "  WHERE agent.client_platform_family='mobile_browser'\n",
    "  AND year = 2023\n",
    "  AND month= 2\n",
    "  AND mediawiki.database = \"testwiki\"\n",
    "  GROUP BY name\n",
    "''')\n"
   ]
  },
  {
   "cell_type": "code",
   "execution_count": 46,
   "id": "bf1820c0-715f-456e-9d7a-77e5914b8366",
   "metadata": {},
   "outputs": [
    {
     "data": {
      "text/html": [
       "<div>\n",
       "<style scoped>\n",
       "    .dataframe tbody tr th:only-of-type {\n",
       "        vertical-align: middle;\n",
       "    }\n",
       "\n",
       "    .dataframe tbody tr th {\n",
       "        vertical-align: top;\n",
       "    }\n",
       "\n",
       "    .dataframe thead th {\n",
       "        text-align: right;\n",
       "    }\n",
       "</style>\n",
       "<table border=\"1\" class=\"dataframe\">\n",
       "  <thead>\n",
       "    <tr style=\"text-align: right;\">\n",
       "      <th></th>\n",
       "      <th>name</th>\n",
       "      <th>mobile_events</th>\n",
       "    </tr>\n",
       "  </thead>\n",
       "  <tbody>\n",
       "    <tr>\n",
       "      <th>4</th>\n",
       "      <td>eas.mf.init</td>\n",
       "      <td>76</td>\n",
       "    </tr>\n",
       "    <tr>\n",
       "      <th>2</th>\n",
       "      <td>eas.mf.ready</td>\n",
       "      <td>72</td>\n",
       "    </tr>\n",
       "    <tr>\n",
       "      <th>11</th>\n",
       "      <td>eas.mf.loaded</td>\n",
       "      <td>71</td>\n",
       "    </tr>\n",
       "    <tr>\n",
       "      <th>5</th>\n",
       "      <td>eas.mf.save_intent</td>\n",
       "      <td>42</td>\n",
       "    </tr>\n",
       "    <tr>\n",
       "      <th>8</th>\n",
       "      <td>eas.mf.first_change</td>\n",
       "      <td>40</td>\n",
       "    </tr>\n",
       "    <tr>\n",
       "      <th>9</th>\n",
       "      <td>eas.mf.save_attempt</td>\n",
       "      <td>36</td>\n",
       "    </tr>\n",
       "    <tr>\n",
       "      <th>7</th>\n",
       "      <td>eas.mf.save_success</td>\n",
       "      <td>26</td>\n",
       "    </tr>\n",
       "    <tr>\n",
       "      <th>10</th>\n",
       "      <td>eas.mf.abort</td>\n",
       "      <td>22</td>\n",
       "    </tr>\n",
       "    <tr>\n",
       "      <th>1</th>\n",
       "      <td>eas.mf.save_failure</td>\n",
       "      <td>6</td>\n",
       "    </tr>\n",
       "    <tr>\n",
       "      <th>3</th>\n",
       "      <td>eas.wt.ready</td>\n",
       "      <td>4</td>\n",
       "    </tr>\n",
       "    <tr>\n",
       "      <th>0</th>\n",
       "      <td>eas.wt.loaded</td>\n",
       "      <td>4</td>\n",
       "    </tr>\n",
       "    <tr>\n",
       "      <th>6</th>\n",
       "      <td>eas.wt.abort</td>\n",
       "      <td>3</td>\n",
       "    </tr>\n",
       "  </tbody>\n",
       "</table>\n",
       "</div>"
      ],
      "text/plain": [
       "                   name  mobile_events\n",
       "4           eas.mf.init             76\n",
       "2          eas.mf.ready             72\n",
       "11        eas.mf.loaded             71\n",
       "5    eas.mf.save_intent             42\n",
       "8   eas.mf.first_change             40\n",
       "9   eas.mf.save_attempt             36\n",
       "7   eas.mf.save_success             26\n",
       "10         eas.mf.abort             22\n",
       "1   eas.mf.save_failure              6\n",
       "3          eas.wt.ready              4\n",
       "0         eas.wt.loaded              4\n",
       "6          eas.wt.abort              3"
      ]
     },
     "execution_count": 46,
     "metadata": {},
     "output_type": "execute_result"
    }
   ],
   "source": [
    "mf_mea_query.sort_values(by=['mobile_events','name'], ascending=False)"
   ]
  },
  {
   "cell_type": "code",
   "execution_count": 47,
   "id": "6300a3a5-81f1-4121-bfe5-c3a0ba5e6685",
   "metadata": {},
   "outputs": [
    {
     "data": {
      "text/html": [
       "<div>\n",
       "<style scoped>\n",
       "    .dataframe tbody tr th:only-of-type {\n",
       "        vertical-align: middle;\n",
       "    }\n",
       "\n",
       "    .dataframe tbody tr th {\n",
       "        vertical-align: top;\n",
       "    }\n",
       "\n",
       "    .dataframe thead th {\n",
       "        text-align: right;\n",
       "    }\n",
       "</style>\n",
       "<table border=\"1\" class=\"dataframe\">\n",
       "  <thead>\n",
       "    <tr style=\"text-align: right;\">\n",
       "      <th></th>\n",
       "      <th>action</th>\n",
       "      <th>mobile_events</th>\n",
       "    </tr>\n",
       "  </thead>\n",
       "  <tbody>\n",
       "    <tr>\n",
       "      <th>7</th>\n",
       "      <td>init</td>\n",
       "      <td>74</td>\n",
       "    </tr>\n",
       "    <tr>\n",
       "      <th>5</th>\n",
       "      <td>ready</td>\n",
       "      <td>69</td>\n",
       "    </tr>\n",
       "    <tr>\n",
       "      <th>0</th>\n",
       "      <td>loaded</td>\n",
       "      <td>69</td>\n",
       "    </tr>\n",
       "    <tr>\n",
       "      <th>3</th>\n",
       "      <td>saveIntent</td>\n",
       "      <td>42</td>\n",
       "    </tr>\n",
       "    <tr>\n",
       "      <th>4</th>\n",
       "      <td>firstChange</td>\n",
       "      <td>40</td>\n",
       "    </tr>\n",
       "    <tr>\n",
       "      <th>8</th>\n",
       "      <td>saveAttempt</td>\n",
       "      <td>36</td>\n",
       "    </tr>\n",
       "    <tr>\n",
       "      <th>6</th>\n",
       "      <td>saveSuccess</td>\n",
       "      <td>26</td>\n",
       "    </tr>\n",
       "    <tr>\n",
       "      <th>1</th>\n",
       "      <td>abort</td>\n",
       "      <td>21</td>\n",
       "    </tr>\n",
       "    <tr>\n",
       "      <th>2</th>\n",
       "      <td>saveFailure</td>\n",
       "      <td>6</td>\n",
       "    </tr>\n",
       "  </tbody>\n",
       "</table>\n",
       "</div>"
      ],
      "text/plain": [
       "        action  mobile_events\n",
       "7         init             74\n",
       "5        ready             69\n",
       "0       loaded             69\n",
       "3   saveIntent             42\n",
       "4  firstChange             40\n",
       "8  saveAttempt             36\n",
       "6  saveSuccess             26\n",
       "1        abort             21\n",
       "2  saveFailure              6"
      ]
     },
     "execution_count": 47,
     "metadata": {},
     "output_type": "execute_result"
    }
   ],
   "source": [
    "mf_eas_query.sort_values(by=['mobile_events','action'], ascending=False)"
   ]
  },
  {
   "cell_type": "code",
   "execution_count": 51,
   "id": "11773650-0318-440e-9793-64bdc9b0d68a",
   "metadata": {},
   "outputs": [
    {
     "data": {
      "text/plain": [
       "383"
      ]
     },
     "execution_count": 51,
     "metadata": {},
     "output_type": "execute_result"
    }
   ],
   "source": [
    "mf_eas_query.mobile_events.sum()"
   ]
  },
  {
   "cell_type": "code",
   "execution_count": 101,
   "id": "52cd695c-4546-4d41-9910-83a21acec842",
   "metadata": {},
   "outputs": [
    {
     "data": {
      "text/plain": [
       "402"
      ]
     },
     "execution_count": 101,
     "metadata": {},
     "output_type": "execute_result"
    }
   ],
   "source": [
    "mf_mea_query.mobile_events.sum()"
   ]
  },
  {
   "cell_type": "markdown",
   "id": "9e6527cf-0964-4c1f-9311-607605a672bd",
   "metadata": {},
   "source": [
    "Mobile events on `mediawiki_edit_attempt` are slightly higher. This is due to wiki editor events that are logged twice - once from `wt` extension and once from `mf` extension. This is an issue on both instrument platforms and will need to be fixed.  "
   ]
  },
  {
   "cell_type": "markdown",
   "id": "458f8867-4fff-4aa2-a40c-17a27c4b53e1",
   "metadata": {},
   "source": [
    "### 4.1 Mobile wiki editor events"
   ]
  },
  {
   "cell_type": "code",
   "execution_count": 56,
   "id": "aafe8bb1-0aec-42cb-8b87-b9a951a93403",
   "metadata": {},
   "outputs": [
    {
     "name": "stderr",
     "output_type": "stream",
     "text": [
      "PySpark executors will use /usr/lib/anaconda-wmf/bin/python3.\n",
      "                                                                                \r"
     ]
    }
   ],
   "source": [
    "mf_wt_eas_query=spark.run('''\n",
    "SELECT \n",
    "  DISTINCT event.action AS action, \n",
    "  count(1) AS mobile_events\n",
    "  FROM event.editattemptstep\n",
    "  WHERE event.platform = 'phone'\n",
    "  AND event.editor_interface='wikitext'\n",
    "  AND year = 2023\n",
    "  AND month= 2\n",
    "  AND wiki = 'testwiki' \n",
    "  GROUP BY action\n",
    "''')"
   ]
  },
  {
   "cell_type": "code",
   "execution_count": 69,
   "id": "19cd4f8e-d2eb-477b-9cb6-17fb0201df44",
   "metadata": {},
   "outputs": [
    {
     "data": {
      "text/plain": [
       "261"
      ]
     },
     "execution_count": 69,
     "metadata": {},
     "output_type": "execute_result"
    }
   ],
   "source": [
    "mf_wt_eas_query.mobile_events.sum()"
   ]
  },
  {
   "cell_type": "code",
   "execution_count": 70,
   "id": "f657472e-c64e-40ae-8682-396d54e80512",
   "metadata": {},
   "outputs": [
    {
     "data": {
      "text/plain": [
       "280"
      ]
     },
     "execution_count": 70,
     "metadata": {},
     "output_type": "execute_result"
    }
   ],
   "source": [
    "mf_wt_mea_query.mobile_events.sum()"
   ]
  },
  {
   "cell_type": "code",
   "execution_count": 58,
   "id": "aa19ce91-a365-4515-a47a-555720c4598a",
   "metadata": {},
   "outputs": [
    {
     "name": "stderr",
     "output_type": "stream",
     "text": [
      "PySpark executors will use /usr/lib/anaconda-wmf/bin/python3.\n",
      "                                                                                \r"
     ]
    }
   ],
   "source": [
    "mf_wt_mea_query= spark.run('''\n",
    "SELECT \n",
    "  DISTINCT name, \n",
    "  count(1) AS mobile_events\n",
    "  FROM event.mediawiki_edit_attempt\n",
    "  WHERE agent.client_platform_family='mobile_browser'\n",
    "  AND custom_data[\"editor_interface\"].value = \"wikitext\"\n",
    "  AND year = 2023\n",
    "  AND month= 2\n",
    "  AND mediawiki.database = \"testwiki\"\n",
    "  GROUP BY name\n",
    "''')\n"
   ]
  },
  {
   "cell_type": "code",
   "execution_count": 60,
   "id": "6f126a1b-830b-4f8d-8d08-16994128a7c2",
   "metadata": {},
   "outputs": [
    {
     "data": {
      "text/html": [
       "<div>\n",
       "<style scoped>\n",
       "    .dataframe tbody tr th:only-of-type {\n",
       "        vertical-align: middle;\n",
       "    }\n",
       "\n",
       "    .dataframe tbody tr th {\n",
       "        vertical-align: top;\n",
       "    }\n",
       "\n",
       "    .dataframe thead th {\n",
       "        text-align: right;\n",
       "    }\n",
       "</style>\n",
       "<table border=\"1\" class=\"dataframe\">\n",
       "  <thead>\n",
       "    <tr style=\"text-align: right;\">\n",
       "      <th></th>\n",
       "      <th>name</th>\n",
       "      <th>mobile_events</th>\n",
       "    </tr>\n",
       "  </thead>\n",
       "  <tbody>\n",
       "    <tr>\n",
       "      <th>4</th>\n",
       "      <td>eas.mf.init</td>\n",
       "      <td>53</td>\n",
       "    </tr>\n",
       "    <tr>\n",
       "      <th>2</th>\n",
       "      <td>eas.mf.ready</td>\n",
       "      <td>51</td>\n",
       "    </tr>\n",
       "    <tr>\n",
       "      <th>11</th>\n",
       "      <td>eas.mf.loaded</td>\n",
       "      <td>50</td>\n",
       "    </tr>\n",
       "    <tr>\n",
       "      <th>5</th>\n",
       "      <td>eas.mf.save_intent</td>\n",
       "      <td>29</td>\n",
       "    </tr>\n",
       "    <tr>\n",
       "      <th>8</th>\n",
       "      <td>eas.mf.first_change</td>\n",
       "      <td>25</td>\n",
       "    </tr>\n",
       "    <tr>\n",
       "      <th>9</th>\n",
       "      <td>eas.mf.save_attempt</td>\n",
       "      <td>22</td>\n",
       "    </tr>\n",
       "    <tr>\n",
       "      <th>7</th>\n",
       "      <td>eas.mf.save_success</td>\n",
       "      <td>19</td>\n",
       "    </tr>\n",
       "    <tr>\n",
       "      <th>10</th>\n",
       "      <td>eas.mf.abort</td>\n",
       "      <td>17</td>\n",
       "    </tr>\n",
       "    <tr>\n",
       "      <th>3</th>\n",
       "      <td>eas.wt.ready</td>\n",
       "      <td>4</td>\n",
       "    </tr>\n",
       "    <tr>\n",
       "      <th>0</th>\n",
       "      <td>eas.wt.loaded</td>\n",
       "      <td>4</td>\n",
       "    </tr>\n",
       "    <tr>\n",
       "      <th>6</th>\n",
       "      <td>eas.wt.abort</td>\n",
       "      <td>3</td>\n",
       "    </tr>\n",
       "    <tr>\n",
       "      <th>1</th>\n",
       "      <td>eas.mf.save_failure</td>\n",
       "      <td>3</td>\n",
       "    </tr>\n",
       "  </tbody>\n",
       "</table>\n",
       "</div>"
      ],
      "text/plain": [
       "                   name  mobile_events\n",
       "4           eas.mf.init             53\n",
       "2          eas.mf.ready             51\n",
       "11        eas.mf.loaded             50\n",
       "5    eas.mf.save_intent             29\n",
       "8   eas.mf.first_change             25\n",
       "9   eas.mf.save_attempt             22\n",
       "7   eas.mf.save_success             19\n",
       "10         eas.mf.abort             17\n",
       "3          eas.wt.ready              4\n",
       "0         eas.wt.loaded              4\n",
       "6          eas.wt.abort              3\n",
       "1   eas.mf.save_failure              3"
      ]
     },
     "execution_count": 60,
     "metadata": {},
     "output_type": "execute_result"
    }
   ],
   "source": [
    "mf_wt_mea_query.sort_values(by=['mobile_events','name'], ascending=False)"
   ]
  },
  {
   "cell_type": "code",
   "execution_count": 71,
   "id": "e9a6cd85-841d-449a-b0e5-d7bbfa294093",
   "metadata": {},
   "outputs": [
    {
     "data": {
      "text/html": [
       "<div>\n",
       "<style scoped>\n",
       "    .dataframe tbody tr th:only-of-type {\n",
       "        vertical-align: middle;\n",
       "    }\n",
       "\n",
       "    .dataframe tbody tr th {\n",
       "        vertical-align: top;\n",
       "    }\n",
       "\n",
       "    .dataframe thead th {\n",
       "        text-align: right;\n",
       "    }\n",
       "</style>\n",
       "<table border=\"1\" class=\"dataframe\">\n",
       "  <thead>\n",
       "    <tr style=\"text-align: right;\">\n",
       "      <th></th>\n",
       "      <th>action</th>\n",
       "      <th>mobile_events</th>\n",
       "    </tr>\n",
       "  </thead>\n",
       "  <tbody>\n",
       "    <tr>\n",
       "      <th>3</th>\n",
       "      <td>init</td>\n",
       "      <td>51</td>\n",
       "    </tr>\n",
       "    <tr>\n",
       "      <th>4</th>\n",
       "      <td>ready</td>\n",
       "      <td>48</td>\n",
       "    </tr>\n",
       "    <tr>\n",
       "      <th>8</th>\n",
       "      <td>loaded</td>\n",
       "      <td>48</td>\n",
       "    </tr>\n",
       "    <tr>\n",
       "      <th>2</th>\n",
       "      <td>saveIntent</td>\n",
       "      <td>29</td>\n",
       "    </tr>\n",
       "    <tr>\n",
       "      <th>7</th>\n",
       "      <td>firstChange</td>\n",
       "      <td>25</td>\n",
       "    </tr>\n",
       "    <tr>\n",
       "      <th>0</th>\n",
       "      <td>saveAttempt</td>\n",
       "      <td>22</td>\n",
       "    </tr>\n",
       "    <tr>\n",
       "      <th>1</th>\n",
       "      <td>saveSuccess</td>\n",
       "      <td>19</td>\n",
       "    </tr>\n",
       "    <tr>\n",
       "      <th>6</th>\n",
       "      <td>abort</td>\n",
       "      <td>16</td>\n",
       "    </tr>\n",
       "    <tr>\n",
       "      <th>5</th>\n",
       "      <td>saveFailure</td>\n",
       "      <td>3</td>\n",
       "    </tr>\n",
       "  </tbody>\n",
       "</table>\n",
       "</div>"
      ],
      "text/plain": [
       "        action  mobile_events\n",
       "3         init             51\n",
       "4        ready             48\n",
       "8       loaded             48\n",
       "2   saveIntent             29\n",
       "7  firstChange             25\n",
       "0  saveAttempt             22\n",
       "1  saveSuccess             19\n",
       "6        abort             16\n",
       "5  saveFailure              3"
      ]
     },
     "execution_count": 71,
     "metadata": {},
     "output_type": "execute_result"
    }
   ],
   "source": [
    "mf_wt_eas_query.sort_values(by=['mobile_events','action'], ascending=False)"
   ]
  },
  {
   "cell_type": "markdown",
   "id": "b0f3ec27-35bd-40a5-bc2f-a9eca2179b08",
   "metadata": {},
   "source": [
    "We can see that on Mobile, wikitext editor events are slightly higher on Metrics platform table `mediawiki_edit_attempt` than on legacy editattemptstep.   \n",
    "\n",
    "\n",
    "On looking further we also observed that some Mobile events were being logged using `wt` and `mf` mediawiki extensions i.e. the same events were being logged twice and double counted. After discussing with @phuedx, this seems to be an issue affecting both Metrics Platform edit_attempt instrument as well as legacy editattemptstep instrument. `/wiki/$title?action=edit` this is the url when editing on desktop. on mobile the editing url looks something like `/wiki/$title#/editor/section#` so this issue happens with anyone who edits on a mobile device using a desktop edit link.\n"
   ]
  },
  {
   "cell_type": "code",
   "execution_count": null,
   "id": "deab7b07-9fae-4210-b963-f1aae20e8795",
   "metadata": {},
   "outputs": [],
   "source": []
  },
  {
   "cell_type": "markdown",
   "id": "bae3a599-c0c5-4c94-bc91-d6507b97c9a8",
   "metadata": {},
   "source": [
    "### 4.2 Mobile VE events"
   ]
  },
  {
   "cell_type": "code",
   "execution_count": 62,
   "id": "8e4b796b-04d9-4f1f-8750-b9a0f960a771",
   "metadata": {},
   "outputs": [
    {
     "name": "stderr",
     "output_type": "stream",
     "text": [
      "PySpark executors will use /usr/lib/anaconda-wmf/bin/python3.\n",
      "                                                                                \r"
     ]
    }
   ],
   "source": [
    "mf_ve_eas_query=spark.run('''\n",
    "SELECT \n",
    "  DISTINCT event.action AS action, \n",
    "  count(1) AS mobile_ve_events\n",
    "  FROM event.editattemptstep\n",
    "  WHERE event.platform = 'phone'\n",
    "  AND event.editor_interface='visualeditor'\n",
    "  AND event.integration='page' -- restricting to non discussion tools events only\n",
    "  AND year = 2023\n",
    "  AND month= 2\n",
    "  AND wiki = 'testwiki' \n",
    "  GROUP BY action\n",
    "''')"
   ]
  },
  {
   "cell_type": "code",
   "execution_count": 64,
   "id": "b078a12f-78a4-45a8-b459-e8a599412ccb",
   "metadata": {},
   "outputs": [
    {
     "data": {
      "text/html": [
       "<div>\n",
       "<style scoped>\n",
       "    .dataframe tbody tr th:only-of-type {\n",
       "        vertical-align: middle;\n",
       "    }\n",
       "\n",
       "    .dataframe tbody tr th {\n",
       "        vertical-align: top;\n",
       "    }\n",
       "\n",
       "    .dataframe thead th {\n",
       "        text-align: right;\n",
       "    }\n",
       "</style>\n",
       "<table border=\"1\" class=\"dataframe\">\n",
       "  <thead>\n",
       "    <tr style=\"text-align: right;\">\n",
       "      <th></th>\n",
       "      <th>action</th>\n",
       "      <th>mobile_ve_events</th>\n",
       "    </tr>\n",
       "  </thead>\n",
       "  <tbody>\n",
       "    <tr>\n",
       "      <th>4</th>\n",
       "      <td>init</td>\n",
       "      <td>23</td>\n",
       "    </tr>\n",
       "    <tr>\n",
       "      <th>1</th>\n",
       "      <td>ready</td>\n",
       "      <td>21</td>\n",
       "    </tr>\n",
       "    <tr>\n",
       "      <th>8</th>\n",
       "      <td>loaded</td>\n",
       "      <td>21</td>\n",
       "    </tr>\n",
       "    <tr>\n",
       "      <th>6</th>\n",
       "      <td>firstChange</td>\n",
       "      <td>15</td>\n",
       "    </tr>\n",
       "    <tr>\n",
       "      <th>3</th>\n",
       "      <td>saveAttempt</td>\n",
       "      <td>14</td>\n",
       "    </tr>\n",
       "    <tr>\n",
       "      <th>2</th>\n",
       "      <td>saveIntent</td>\n",
       "      <td>13</td>\n",
       "    </tr>\n",
       "    <tr>\n",
       "      <th>0</th>\n",
       "      <td>saveSuccess</td>\n",
       "      <td>7</td>\n",
       "    </tr>\n",
       "    <tr>\n",
       "      <th>7</th>\n",
       "      <td>abort</td>\n",
       "      <td>5</td>\n",
       "    </tr>\n",
       "    <tr>\n",
       "      <th>5</th>\n",
       "      <td>saveFailure</td>\n",
       "      <td>3</td>\n",
       "    </tr>\n",
       "  </tbody>\n",
       "</table>\n",
       "</div>"
      ],
      "text/plain": [
       "        action  mobile_ve_events\n",
       "4         init                23\n",
       "1        ready                21\n",
       "8       loaded                21\n",
       "6  firstChange                15\n",
       "3  saveAttempt                14\n",
       "2   saveIntent                13\n",
       "0  saveSuccess                 7\n",
       "7        abort                 5\n",
       "5  saveFailure                 3"
      ]
     },
     "execution_count": 64,
     "metadata": {},
     "output_type": "execute_result"
    }
   ],
   "source": [
    "mf_ve_eas_query.sort_values(by=['mobile_ve_events','action'], ascending=False)"
   ]
  },
  {
   "cell_type": "code",
   "execution_count": 67,
   "id": "032a0743-62e6-473e-86b5-155efba71be3",
   "metadata": {},
   "outputs": [
    {
     "name": "stderr",
     "output_type": "stream",
     "text": [
      "PySpark executors will use /usr/lib/anaconda-wmf/bin/python3.\n",
      "                                                                                \r"
     ]
    }
   ],
   "source": [
    "mf_ve_mea_query= spark.run('''\n",
    "SELECT \n",
    "  DISTINCT name, \n",
    "  count(1) AS mobile_ve_events\n",
    "  FROM event.mediawiki_edit_attempt\n",
    "  WHERE agent.client_platform_family='mobile_browser'\n",
    "  AND custom_data[\"editor_interface\"].value = \"visualeditor\"\n",
    "  --AND name like 'eas.ve%'\n",
    "  AND year = 2023\n",
    "  AND month= 2\n",
    "  AND mediawiki.database = \"testwiki\"\n",
    "  GROUP BY name\n",
    "''')\n"
   ]
  },
  {
   "cell_type": "code",
   "execution_count": 68,
   "id": "21b5a668-c094-41b1-ab70-cb55c5a9e5d0",
   "metadata": {},
   "outputs": [
    {
     "data": {
      "text/html": [
       "<div>\n",
       "<style scoped>\n",
       "    .dataframe tbody tr th:only-of-type {\n",
       "        vertical-align: middle;\n",
       "    }\n",
       "\n",
       "    .dataframe tbody tr th {\n",
       "        vertical-align: top;\n",
       "    }\n",
       "\n",
       "    .dataframe thead th {\n",
       "        text-align: right;\n",
       "    }\n",
       "</style>\n",
       "<table border=\"1\" class=\"dataframe\">\n",
       "  <thead>\n",
       "    <tr style=\"text-align: right;\">\n",
       "      <th></th>\n",
       "      <th>name</th>\n",
       "      <th>mobile_ve_events</th>\n",
       "    </tr>\n",
       "  </thead>\n",
       "  <tbody>\n",
       "    <tr>\n",
       "      <th>2</th>\n",
       "      <td>eas.mf.init</td>\n",
       "      <td>23</td>\n",
       "    </tr>\n",
       "    <tr>\n",
       "      <th>1</th>\n",
       "      <td>eas.mf.ready</td>\n",
       "      <td>21</td>\n",
       "    </tr>\n",
       "    <tr>\n",
       "      <th>8</th>\n",
       "      <td>eas.mf.loaded</td>\n",
       "      <td>21</td>\n",
       "    </tr>\n",
       "    <tr>\n",
       "      <th>5</th>\n",
       "      <td>eas.mf.first_change</td>\n",
       "      <td>15</td>\n",
       "    </tr>\n",
       "    <tr>\n",
       "      <th>6</th>\n",
       "      <td>eas.mf.save_attempt</td>\n",
       "      <td>14</td>\n",
       "    </tr>\n",
       "    <tr>\n",
       "      <th>3</th>\n",
       "      <td>eas.mf.save_intent</td>\n",
       "      <td>13</td>\n",
       "    </tr>\n",
       "    <tr>\n",
       "      <th>4</th>\n",
       "      <td>eas.mf.save_success</td>\n",
       "      <td>7</td>\n",
       "    </tr>\n",
       "    <tr>\n",
       "      <th>7</th>\n",
       "      <td>eas.mf.abort</td>\n",
       "      <td>5</td>\n",
       "    </tr>\n",
       "    <tr>\n",
       "      <th>0</th>\n",
       "      <td>eas.mf.save_failure</td>\n",
       "      <td>3</td>\n",
       "    </tr>\n",
       "  </tbody>\n",
       "</table>\n",
       "</div>"
      ],
      "text/plain": [
       "                  name  mobile_ve_events\n",
       "2          eas.mf.init                23\n",
       "1         eas.mf.ready                21\n",
       "8        eas.mf.loaded                21\n",
       "5  eas.mf.first_change                15\n",
       "6  eas.mf.save_attempt                14\n",
       "3   eas.mf.save_intent                13\n",
       "4  eas.mf.save_success                 7\n",
       "7         eas.mf.abort                 5\n",
       "0  eas.mf.save_failure                 3"
      ]
     },
     "execution_count": 68,
     "metadata": {},
     "output_type": "execute_result"
    }
   ],
   "source": [
    "mf_ve_mea_query.sort_values(by=['mobile_ve_events','name'], ascending=False)"
   ]
  },
  {
   "cell_type": "code",
   "execution_count": 72,
   "id": "c07f2054-6556-4186-b8f5-07f7170482e7",
   "metadata": {},
   "outputs": [
    {
     "data": {
      "text/plain": [
       "122"
      ]
     },
     "execution_count": 72,
     "metadata": {},
     "output_type": "execute_result"
    }
   ],
   "source": [
    "mf_ve_eas_query.mobile_ve_events.sum()"
   ]
  },
  {
   "cell_type": "code",
   "execution_count": 73,
   "id": "f33d291a-937c-4649-87a8-d1abe7997eda",
   "metadata": {},
   "outputs": [
    {
     "data": {
      "text/plain": [
       "122"
      ]
     },
     "execution_count": 73,
     "metadata": {},
     "output_type": "execute_result"
    }
   ],
   "source": [
    "mf_ve_mea_query.mobile_ve_events.sum()"
   ]
  },
  {
   "cell_type": "markdown",
   "id": "e232595c-996f-4dae-9845-74cff43bf117",
   "metadata": {},
   "source": [
    "On Mobile, Visual Editor events between the two tables are consistent (this comparison does not include discussion tool events)"
   ]
  },
  {
   "cell_type": "code",
   "execution_count": null,
   "id": "32e755fe-902f-4f62-8c63-4fe0e9618c46",
   "metadata": {},
   "outputs": [],
   "source": []
  },
  {
   "cell_type": "markdown",
   "id": "51f9b0d2-d6d5-4948-a6f8-023f04306d78",
   "metadata": {},
   "source": [
    "### 5. Desktop events"
   ]
  },
  {
   "cell_type": "code",
   "execution_count": 79,
   "id": "228cb789-74f8-4577-ac53-4e6ca23c76a3",
   "metadata": {},
   "outputs": [
    {
     "name": "stderr",
     "output_type": "stream",
     "text": [
      "PySpark executors will use /usr/lib/anaconda-wmf/bin/python3.\n",
      "                                                                                \r"
     ]
    }
   ],
   "source": [
    "desktop_eas_query=spark.run('''\n",
    "SELECT \n",
    "  DISTINCT event.action AS action, \n",
    "  count(1) AS desktop_events\n",
    "  FROM event.editattemptstep\n",
    "  WHERE event.platform = 'desktop'\n",
    "  AND year = 2023\n",
    "  AND month= 2\n",
    "  AND wiki = 'testwiki' \n",
    "  GROUP BY action\n",
    "''')"
   ]
  },
  {
   "cell_type": "code",
   "execution_count": 80,
   "id": "73461c38-c952-4211-b0ab-8b5ed6813e3e",
   "metadata": {},
   "outputs": [
    {
     "data": {
      "text/html": [
       "<div>\n",
       "<style scoped>\n",
       "    .dataframe tbody tr th:only-of-type {\n",
       "        vertical-align: middle;\n",
       "    }\n",
       "\n",
       "    .dataframe tbody tr th {\n",
       "        vertical-align: top;\n",
       "    }\n",
       "\n",
       "    .dataframe thead th {\n",
       "        text-align: right;\n",
       "    }\n",
       "</style>\n",
       "<table border=\"1\" class=\"dataframe\">\n",
       "  <thead>\n",
       "    <tr style=\"text-align: right;\">\n",
       "      <th></th>\n",
       "      <th>action</th>\n",
       "      <th>desktop_events</th>\n",
       "    </tr>\n",
       "  </thead>\n",
       "  <tbody>\n",
       "    <tr>\n",
       "      <th>4</th>\n",
       "      <td>init</td>\n",
       "      <td>2742</td>\n",
       "    </tr>\n",
       "    <tr>\n",
       "      <th>0</th>\n",
       "      <td>saveAttempt</td>\n",
       "      <td>1261</td>\n",
       "    </tr>\n",
       "    <tr>\n",
       "      <th>2</th>\n",
       "      <td>ready</td>\n",
       "      <td>1040</td>\n",
       "    </tr>\n",
       "    <tr>\n",
       "      <th>3</th>\n",
       "      <td>loaded</td>\n",
       "      <td>1039</td>\n",
       "    </tr>\n",
       "    <tr>\n",
       "      <th>5</th>\n",
       "      <td>saveSuccess</td>\n",
       "      <td>725</td>\n",
       "    </tr>\n",
       "    <tr>\n",
       "      <th>6</th>\n",
       "      <td>saveFailure</td>\n",
       "      <td>536</td>\n",
       "    </tr>\n",
       "    <tr>\n",
       "      <th>1</th>\n",
       "      <td>abort</td>\n",
       "      <td>482</td>\n",
       "    </tr>\n",
       "    <tr>\n",
       "      <th>8</th>\n",
       "      <td>firstChange</td>\n",
       "      <td>421</td>\n",
       "    </tr>\n",
       "    <tr>\n",
       "      <th>7</th>\n",
       "      <td>saveIntent</td>\n",
       "      <td>122</td>\n",
       "    </tr>\n",
       "  </tbody>\n",
       "</table>\n",
       "</div>"
      ],
      "text/plain": [
       "        action  desktop_events\n",
       "4         init            2742\n",
       "0  saveAttempt            1261\n",
       "2        ready            1040\n",
       "3       loaded            1039\n",
       "5  saveSuccess             725\n",
       "6  saveFailure             536\n",
       "1        abort             482\n",
       "8  firstChange             421\n",
       "7   saveIntent             122"
      ]
     },
     "execution_count": 80,
     "metadata": {},
     "output_type": "execute_result"
    }
   ],
   "source": [
    "desktop_eas_query.sort_values(by=['desktop_events','action'], ascending=False)"
   ]
  },
  {
   "cell_type": "code",
   "execution_count": null,
   "id": "819ee647-15da-4390-b501-ce179a29c6ca",
   "metadata": {},
   "outputs": [],
   "source": []
  },
  {
   "cell_type": "code",
   "execution_count": 75,
   "id": "3a82c78b-9f9a-4421-9b28-082ca68984ad",
   "metadata": {},
   "outputs": [
    {
     "name": "stderr",
     "output_type": "stream",
     "text": [
      "[Stage 49:===============>                                      (48 + 97) / 165]PySpark executors will use /usr/lib/anaconda-wmf/bin/python3.\n",
      "[Stage 51:====================================================> (169 + 4) / 173]Exception in thread \"serve-DataFrame\" java.net.SocketTimeoutException: Accept timed out\n",
      "\tat java.net.PlainSocketImpl.socketAccept(Native Method)\n",
      "\tat java.net.AbstractPlainSocketImpl.accept(AbstractPlainSocketImpl.java:409)\n",
      "\tat java.net.ServerSocket.implAccept(ServerSocket.java:560)\n",
      "\tat java.net.ServerSocket.accept(ServerSocket.java:528)\n",
      "\tat org.apache.spark.api.python.PythonServer$$anon$1.run(PythonRDD.scala:906)\n",
      "                                                                                \r"
     ]
    }
   ],
   "source": [
    "desktop_mea_query= spark.run('''\n",
    "SELECT \n",
    "  DISTINCT name, \n",
    "  count(1) AS desktop_events\n",
    "  FROM event.mediawiki_edit_attempt\n",
    "  WHERE agent.client_platform_family='desktop_browser'\n",
    "  AND year = 2023\n",
    "  AND month= 2\n",
    "  AND mediawiki.database = \"testwiki\"\n",
    "  GROUP BY name\n",
    "''')\n"
   ]
  },
  {
   "cell_type": "code",
   "execution_count": 76,
   "id": "4c187787-13ff-4973-bba9-7181aeeb7b3f",
   "metadata": {},
   "outputs": [
    {
     "data": {
      "text/html": [
       "<div>\n",
       "<style scoped>\n",
       "    .dataframe tbody tr th:only-of-type {\n",
       "        vertical-align: middle;\n",
       "    }\n",
       "\n",
       "    .dataframe tbody tr th {\n",
       "        vertical-align: top;\n",
       "    }\n",
       "\n",
       "    .dataframe thead th {\n",
       "        text-align: right;\n",
       "    }\n",
       "</style>\n",
       "<table border=\"1\" class=\"dataframe\">\n",
       "  <thead>\n",
       "    <tr style=\"text-align: right;\">\n",
       "      <th></th>\n",
       "      <th>name</th>\n",
       "      <th>desktop_events</th>\n",
       "    </tr>\n",
       "  </thead>\n",
       "  <tbody>\n",
       "    <tr>\n",
       "      <th>3</th>\n",
       "      <td>eas.wt.ready</td>\n",
       "      <td>801</td>\n",
       "    </tr>\n",
       "    <tr>\n",
       "      <th>0</th>\n",
       "      <td>eas.wt.loaded</td>\n",
       "      <td>801</td>\n",
       "    </tr>\n",
       "    <tr>\n",
       "      <th>6</th>\n",
       "      <td>eas.wt.abort</td>\n",
       "      <td>344</td>\n",
       "    </tr>\n",
       "    <tr>\n",
       "      <th>5</th>\n",
       "      <td>eas.wt.first_change</td>\n",
       "      <td>291</td>\n",
       "    </tr>\n",
       "    <tr>\n",
       "      <th>19</th>\n",
       "      <td>eas.ve.ready</td>\n",
       "      <td>216</td>\n",
       "    </tr>\n",
       "    <tr>\n",
       "      <th>21</th>\n",
       "      <td>eas.ve.loaded</td>\n",
       "      <td>215</td>\n",
       "    </tr>\n",
       "    <tr>\n",
       "      <th>16</th>\n",
       "      <td>eas.ve.init</td>\n",
       "      <td>213</td>\n",
       "    </tr>\n",
       "    <tr>\n",
       "      <th>9</th>\n",
       "      <td>eas.ve.abort</td>\n",
       "      <td>123</td>\n",
       "    </tr>\n",
       "    <tr>\n",
       "      <th>4</th>\n",
       "      <td>eas.ve.first_change</td>\n",
       "      <td>121</td>\n",
       "    </tr>\n",
       "    <tr>\n",
       "      <th>18</th>\n",
       "      <td>eas.ve.save_intent</td>\n",
       "      <td>114</td>\n",
       "    </tr>\n",
       "    <tr>\n",
       "      <th>20</th>\n",
       "      <td>eas.ve.save_attempt</td>\n",
       "      <td>103</td>\n",
       "    </tr>\n",
       "    <tr>\n",
       "      <th>14</th>\n",
       "      <td>eas.ve.save_success</td>\n",
       "      <td>100</td>\n",
       "    </tr>\n",
       "    <tr>\n",
       "      <th>7</th>\n",
       "      <td>eas.dt.init</td>\n",
       "      <td>21</td>\n",
       "    </tr>\n",
       "    <tr>\n",
       "      <th>17</th>\n",
       "      <td>eas.dt.ready</td>\n",
       "      <td>19</td>\n",
       "    </tr>\n",
       "    <tr>\n",
       "      <th>1</th>\n",
       "      <td>eas.dt.loaded</td>\n",
       "      <td>19</td>\n",
       "    </tr>\n",
       "    <tr>\n",
       "      <th>10</th>\n",
       "      <td>eas.dt.abort</td>\n",
       "      <td>13</td>\n",
       "    </tr>\n",
       "    <tr>\n",
       "      <th>13</th>\n",
       "      <td>eas.dt.first_change</td>\n",
       "      <td>11</td>\n",
       "    </tr>\n",
       "    <tr>\n",
       "      <th>15</th>\n",
       "      <td>eas.dt.save_intent</td>\n",
       "      <td>8</td>\n",
       "    </tr>\n",
       "    <tr>\n",
       "      <th>2</th>\n",
       "      <td>eas.dt.save_attempt</td>\n",
       "      <td>8</td>\n",
       "    </tr>\n",
       "    <tr>\n",
       "      <th>12</th>\n",
       "      <td>eas.dt.save_success</td>\n",
       "      <td>7</td>\n",
       "    </tr>\n",
       "    <tr>\n",
       "      <th>8</th>\n",
       "      <td>eas.ve.save_failure</td>\n",
       "      <td>3</td>\n",
       "    </tr>\n",
       "    <tr>\n",
       "      <th>11</th>\n",
       "      <td>eas.dt.save_failure</td>\n",
       "      <td>1</td>\n",
       "    </tr>\n",
       "  </tbody>\n",
       "</table>\n",
       "</div>"
      ],
      "text/plain": [
       "                   name  desktop_events\n",
       "3          eas.wt.ready             801\n",
       "0         eas.wt.loaded             801\n",
       "6          eas.wt.abort             344\n",
       "5   eas.wt.first_change             291\n",
       "19         eas.ve.ready             216\n",
       "21        eas.ve.loaded             215\n",
       "16          eas.ve.init             213\n",
       "9          eas.ve.abort             123\n",
       "4   eas.ve.first_change             121\n",
       "18   eas.ve.save_intent             114\n",
       "20  eas.ve.save_attempt             103\n",
       "14  eas.ve.save_success             100\n",
       "7           eas.dt.init              21\n",
       "17         eas.dt.ready              19\n",
       "1         eas.dt.loaded              19\n",
       "10         eas.dt.abort              13\n",
       "13  eas.dt.first_change              11\n",
       "15   eas.dt.save_intent               8\n",
       "2   eas.dt.save_attempt               8\n",
       "12  eas.dt.save_success               7\n",
       "8   eas.ve.save_failure               3\n",
       "11  eas.dt.save_failure               1"
      ]
     },
     "execution_count": 76,
     "metadata": {},
     "output_type": "execute_result"
    }
   ],
   "source": [
    "desktop_mea_query.sort_values(by=['desktop_events','name'], ascending=False)"
   ]
  },
  {
   "cell_type": "code",
   "execution_count": 77,
   "id": "ee2d31a6-885d-44ed-b53a-8a64d5e23668",
   "metadata": {},
   "outputs": [
    {
     "data": {
      "text/plain": [
       "3552"
      ]
     },
     "execution_count": 77,
     "metadata": {},
     "output_type": "execute_result"
    }
   ],
   "source": [
    "desktop_mea_query.desktop_events.sum()"
   ]
  },
  {
   "cell_type": "code",
   "execution_count": 81,
   "id": "a5870a84-7cb5-4eb9-be29-df71190df27b",
   "metadata": {},
   "outputs": [
    {
     "data": {
      "text/plain": [
       "8368"
      ]
     },
     "execution_count": 81,
     "metadata": {},
     "output_type": "execute_result"
    }
   ],
   "source": [
    "desktop_eas_query.desktop_events.sum()"
   ]
  },
  {
   "cell_type": "markdown",
   "id": "9c32545d-0a69-466a-a53c-f9d3fa0336d1",
   "metadata": {},
   "source": [
    "As expected, number of Desktop events on `editattemptstep` are much higher because Metrics Platform does not log wiki editor events on desktop"
   ]
  },
  {
   "cell_type": "markdown",
   "id": "a62938f1-0e26-405d-af49-25389cb50ba3",
   "metadata": {},
   "source": [
    "### 5.1 Desktop VE events"
   ]
  },
  {
   "cell_type": "code",
   "execution_count": 82,
   "id": "1e1c9d0a-f956-434e-b593-a755b1043f04",
   "metadata": {},
   "outputs": [
    {
     "name": "stderr",
     "output_type": "stream",
     "text": [
      "PySpark executors will use /usr/lib/anaconda-wmf/bin/python3.\n",
      "                                                                                \r"
     ]
    }
   ],
   "source": [
    "desktop_ve_eas_query=spark.run('''\n",
    "SELECT \n",
    "  DISTINCT event.action AS action, \n",
    "  count(1) AS desktop_ve_events\n",
    "  FROM event.editattemptstep\n",
    "  WHERE event.platform = 'desktop'\n",
    "  AND event.editor_interface='visualeditor'\n",
    "  AND event.integration='page' -- restricting to non discussion tools events only\n",
    "  AND year = 2023\n",
    "  AND month= 2\n",
    "  AND wiki = 'testwiki' \n",
    "  GROUP BY action\n",
    "''')"
   ]
  },
  {
   "cell_type": "code",
   "execution_count": 83,
   "id": "6e45f7f1-1034-493f-a30d-66f4760eb50a",
   "metadata": {},
   "outputs": [
    {
     "data": {
      "text/html": [
       "<div>\n",
       "<style scoped>\n",
       "    .dataframe tbody tr th:only-of-type {\n",
       "        vertical-align: middle;\n",
       "    }\n",
       "\n",
       "    .dataframe tbody tr th {\n",
       "        vertical-align: top;\n",
       "    }\n",
       "\n",
       "    .dataframe thead th {\n",
       "        text-align: right;\n",
       "    }\n",
       "</style>\n",
       "<table border=\"1\" class=\"dataframe\">\n",
       "  <thead>\n",
       "    <tr style=\"text-align: right;\">\n",
       "      <th></th>\n",
       "      <th>action</th>\n",
       "      <th>desktop_ve_events</th>\n",
       "    </tr>\n",
       "  </thead>\n",
       "  <tbody>\n",
       "    <tr>\n",
       "      <th>4</th>\n",
       "      <td>ready</td>\n",
       "      <td>192</td>\n",
       "    </tr>\n",
       "    <tr>\n",
       "      <th>2</th>\n",
       "      <td>loaded</td>\n",
       "      <td>192</td>\n",
       "    </tr>\n",
       "    <tr>\n",
       "      <th>1</th>\n",
       "      <td>init</td>\n",
       "      <td>189</td>\n",
       "    </tr>\n",
       "    <tr>\n",
       "      <th>5</th>\n",
       "      <td>abort</td>\n",
       "      <td>112</td>\n",
       "    </tr>\n",
       "    <tr>\n",
       "      <th>0</th>\n",
       "      <td>firstChange</td>\n",
       "      <td>105</td>\n",
       "    </tr>\n",
       "    <tr>\n",
       "      <th>3</th>\n",
       "      <td>saveIntent</td>\n",
       "      <td>96</td>\n",
       "    </tr>\n",
       "    <tr>\n",
       "      <th>8</th>\n",
       "      <td>saveAttempt</td>\n",
       "      <td>93</td>\n",
       "    </tr>\n",
       "    <tr>\n",
       "      <th>6</th>\n",
       "      <td>saveSuccess</td>\n",
       "      <td>90</td>\n",
       "    </tr>\n",
       "    <tr>\n",
       "      <th>7</th>\n",
       "      <td>saveFailure</td>\n",
       "      <td>3</td>\n",
       "    </tr>\n",
       "  </tbody>\n",
       "</table>\n",
       "</div>"
      ],
      "text/plain": [
       "        action  desktop_ve_events\n",
       "4        ready                192\n",
       "2       loaded                192\n",
       "1         init                189\n",
       "5        abort                112\n",
       "0  firstChange                105\n",
       "3   saveIntent                 96\n",
       "8  saveAttempt                 93\n",
       "6  saveSuccess                 90\n",
       "7  saveFailure                  3"
      ]
     },
     "execution_count": 83,
     "metadata": {},
     "output_type": "execute_result"
    }
   ],
   "source": [
    "desktop_ve_eas_query.sort_values(by=['desktop_ve_events','action'], ascending=False)"
   ]
  },
  {
   "cell_type": "code",
   "execution_count": 84,
   "id": "bce775f6-2544-40a7-9681-a789b1fb33d6",
   "metadata": {},
   "outputs": [
    {
     "data": {
      "text/plain": [
       "1072"
      ]
     },
     "execution_count": 84,
     "metadata": {},
     "output_type": "execute_result"
    }
   ],
   "source": [
    "desktop_ve_eas_query.desktop_ve_events.sum()"
   ]
  },
  {
   "cell_type": "code",
   "execution_count": 90,
   "id": "c4056f0c-4163-4f0f-835b-ffc786df1efc",
   "metadata": {},
   "outputs": [
    {
     "name": "stderr",
     "output_type": "stream",
     "text": [
      "PySpark executors will use /usr/lib/anaconda-wmf/bin/python3.\n",
      "                                                                                \r"
     ]
    }
   ],
   "source": [
    "desktop_ve_mea_query= spark.run('''\n",
    "SELECT \n",
    "  DISTINCT name, \n",
    "  count(1) AS desktop_ve_events\n",
    "  FROM event.mediawiki_edit_attempt\n",
    "  WHERE agent.client_platform_family='desktop_browser'\n",
    "  AND custom_data[\"editor_interface\"].value = \"visualeditor\"\n",
    "  AND name like 'eas.ve%'\n",
    "  AND year = 2023\n",
    "  AND month= 2\n",
    "  AND mediawiki.database = \"testwiki\"\n",
    "  GROUP BY name\n",
    "''')\n"
   ]
  },
  {
   "cell_type": "code",
   "execution_count": 91,
   "id": "3c0acce7-ba0f-4048-86ba-d47d0969242f",
   "metadata": {},
   "outputs": [
    {
     "data": {
      "text/html": [
       "<div>\n",
       "<style scoped>\n",
       "    .dataframe tbody tr th:only-of-type {\n",
       "        vertical-align: middle;\n",
       "    }\n",
       "\n",
       "    .dataframe tbody tr th {\n",
       "        vertical-align: top;\n",
       "    }\n",
       "\n",
       "    .dataframe thead th {\n",
       "        text-align: right;\n",
       "    }\n",
       "</style>\n",
       "<table border=\"1\" class=\"dataframe\">\n",
       "  <thead>\n",
       "    <tr style=\"text-align: right;\">\n",
       "      <th></th>\n",
       "      <th>name</th>\n",
       "      <th>desktop_ve_events</th>\n",
       "    </tr>\n",
       "  </thead>\n",
       "  <tbody>\n",
       "    <tr>\n",
       "      <th>6</th>\n",
       "      <td>eas.ve.ready</td>\n",
       "      <td>192</td>\n",
       "    </tr>\n",
       "    <tr>\n",
       "      <th>8</th>\n",
       "      <td>eas.ve.loaded</td>\n",
       "      <td>192</td>\n",
       "    </tr>\n",
       "    <tr>\n",
       "      <th>4</th>\n",
       "      <td>eas.ve.init</td>\n",
       "      <td>189</td>\n",
       "    </tr>\n",
       "    <tr>\n",
       "      <th>2</th>\n",
       "      <td>eas.ve.abort</td>\n",
       "      <td>113</td>\n",
       "    </tr>\n",
       "    <tr>\n",
       "      <th>0</th>\n",
       "      <td>eas.ve.first_change</td>\n",
       "      <td>107</td>\n",
       "    </tr>\n",
       "    <tr>\n",
       "      <th>5</th>\n",
       "      <td>eas.ve.save_intent</td>\n",
       "      <td>96</td>\n",
       "    </tr>\n",
       "    <tr>\n",
       "      <th>7</th>\n",
       "      <td>eas.ve.save_attempt</td>\n",
       "      <td>93</td>\n",
       "    </tr>\n",
       "    <tr>\n",
       "      <th>3</th>\n",
       "      <td>eas.ve.save_success</td>\n",
       "      <td>90</td>\n",
       "    </tr>\n",
       "    <tr>\n",
       "      <th>1</th>\n",
       "      <td>eas.ve.save_failure</td>\n",
       "      <td>3</td>\n",
       "    </tr>\n",
       "  </tbody>\n",
       "</table>\n",
       "</div>"
      ],
      "text/plain": [
       "                  name  desktop_ve_events\n",
       "6         eas.ve.ready                192\n",
       "8        eas.ve.loaded                192\n",
       "4          eas.ve.init                189\n",
       "2         eas.ve.abort                113\n",
       "0  eas.ve.first_change                107\n",
       "5   eas.ve.save_intent                 96\n",
       "7  eas.ve.save_attempt                 93\n",
       "3  eas.ve.save_success                 90\n",
       "1  eas.ve.save_failure                  3"
      ]
     },
     "execution_count": 91,
     "metadata": {},
     "output_type": "execute_result"
    }
   ],
   "source": [
    "desktop_ve_mea_query.sort_values(by=['desktop_ve_events','name'], ascending=False)"
   ]
  },
  {
   "cell_type": "code",
   "execution_count": 92,
   "id": "505a0928-ca6c-4389-b3a1-0cefa60fefc5",
   "metadata": {},
   "outputs": [
    {
     "data": {
      "text/plain": [
       "1075"
      ]
     },
     "execution_count": 92,
     "metadata": {},
     "output_type": "execute_result"
    }
   ],
   "source": [
    "desktop_ve_mea_query.desktop_ve_events.sum()"
   ]
  },
  {
   "cell_type": "markdown",
   "id": "de1193ce-f78f-48af-9d5f-5c8400d9e78c",
   "metadata": {},
   "source": [
    "Visual Editor events on desktop are the same in both instruments"
   ]
  },
  {
   "cell_type": "markdown",
   "id": "cbe3dec4-5e15-483b-936b-6b659be093dd",
   "metadata": {},
   "source": [
    "### 5.2 Desktop Wikitext events"
   ]
  },
  {
   "cell_type": "code",
   "execution_count": 94,
   "id": "ae28fbb0-2fef-430f-917b-658ea327de41",
   "metadata": {},
   "outputs": [
    {
     "name": "stderr",
     "output_type": "stream",
     "text": [
      "PySpark executors will use /usr/lib/anaconda-wmf/bin/python3.\n",
      "[Stage 68:=====================================>               (181 + 48) / 254]Exception in thread \"serve-DataFrame\" java.net.SocketTimeoutException: Accept timed out\n",
      "\tat java.net.PlainSocketImpl.socketAccept(Native Method)\n",
      "\tat java.net.AbstractPlainSocketImpl.accept(AbstractPlainSocketImpl.java:409)\n",
      "\tat java.net.ServerSocket.implAccept(ServerSocket.java:560)\n",
      "\tat java.net.ServerSocket.accept(ServerSocket.java:528)\n",
      "\tat org.apache.spark.api.python.PythonServer$$anon$1.run(PythonRDD.scala:906)\n",
      "                                                                                \r"
     ]
    }
   ],
   "source": [
    "desktop_wt_eas_query=spark.run('''\n",
    "SELECT \n",
    "  DISTINCT event.action AS action, \n",
    "  count(1) AS desktop_events\n",
    "  FROM event.editattemptstep\n",
    "  WHERE event.platform = 'desktop'\n",
    "  AND event.editor_interface='wikitext'\n",
    "  AND year = 2023\n",
    "  AND month= 2\n",
    "  AND wiki = 'testwiki' \n",
    "  GROUP BY action\n",
    "''')"
   ]
  },
  {
   "cell_type": "code",
   "execution_count": 95,
   "id": "0dffcb47-e728-4fd1-9a33-b047678fb1a1",
   "metadata": {},
   "outputs": [
    {
     "data": {
      "text/html": [
       "<div>\n",
       "<style scoped>\n",
       "    .dataframe tbody tr th:only-of-type {\n",
       "        vertical-align: middle;\n",
       "    }\n",
       "\n",
       "    .dataframe tbody tr th {\n",
       "        vertical-align: top;\n",
       "    }\n",
       "\n",
       "    .dataframe thead th {\n",
       "        text-align: right;\n",
       "    }\n",
       "</style>\n",
       "<table border=\"1\" class=\"dataframe\">\n",
       "  <thead>\n",
       "    <tr style=\"text-align: right;\">\n",
       "      <th></th>\n",
       "      <th>action</th>\n",
       "      <th>desktop_events</th>\n",
       "    </tr>\n",
       "  </thead>\n",
       "  <tbody>\n",
       "    <tr>\n",
       "      <th>5</th>\n",
       "      <td>init</td>\n",
       "      <td>2508</td>\n",
       "    </tr>\n",
       "    <tr>\n",
       "      <th>6</th>\n",
       "      <td>saveAttempt</td>\n",
       "      <td>1150</td>\n",
       "    </tr>\n",
       "    <tr>\n",
       "      <th>3</th>\n",
       "      <td>ready</td>\n",
       "      <td>805</td>\n",
       "    </tr>\n",
       "    <tr>\n",
       "      <th>1</th>\n",
       "      <td>loaded</td>\n",
       "      <td>805</td>\n",
       "    </tr>\n",
       "    <tr>\n",
       "      <th>0</th>\n",
       "      <td>saveSuccess</td>\n",
       "      <td>618</td>\n",
       "    </tr>\n",
       "    <tr>\n",
       "      <th>4</th>\n",
       "      <td>saveFailure</td>\n",
       "      <td>532</td>\n",
       "    </tr>\n",
       "    <tr>\n",
       "      <th>7</th>\n",
       "      <td>abort</td>\n",
       "      <td>347</td>\n",
       "    </tr>\n",
       "    <tr>\n",
       "      <th>2</th>\n",
       "      <td>firstChange</td>\n",
       "      <td>291</td>\n",
       "    </tr>\n",
       "  </tbody>\n",
       "</table>\n",
       "</div>"
      ],
      "text/plain": [
       "        action  desktop_events\n",
       "5         init            2508\n",
       "6  saveAttempt            1150\n",
       "3        ready             805\n",
       "1       loaded             805\n",
       "0  saveSuccess             618\n",
       "4  saveFailure             532\n",
       "7        abort             347\n",
       "2  firstChange             291"
      ]
     },
     "execution_count": 95,
     "metadata": {},
     "output_type": "execute_result"
    }
   ],
   "source": [
    "desktop_wt_eas_query.sort_values(by=['desktop_events','action'], ascending=False)"
   ]
  },
  {
   "cell_type": "code",
   "execution_count": 96,
   "id": "cd9854e7-8f54-4948-9289-e836780ac056",
   "metadata": {},
   "outputs": [
    {
     "data": {
      "text/plain": [
       "7056"
      ]
     },
     "execution_count": 96,
     "metadata": {},
     "output_type": "execute_result"
    }
   ],
   "source": [
    "desktop_wt_eas_query.desktop_events.sum()"
   ]
  },
  {
   "cell_type": "code",
   "execution_count": 97,
   "id": "3bb9aa41-79fb-4449-8eab-40ec1ccaca45",
   "metadata": {},
   "outputs": [
    {
     "name": "stderr",
     "output_type": "stream",
     "text": [
      "PySpark executors will use /usr/lib/anaconda-wmf/bin/python3.\n",
      "                                                                                \r"
     ]
    }
   ],
   "source": [
    "desktop_wt_mea_query= spark.run('''\n",
    "SELECT \n",
    "  DISTINCT name, \n",
    "  count(1) AS desktop_events\n",
    "  FROM event.mediawiki_edit_attempt\n",
    "  WHERE agent.client_platform_family='desktop_browser'\n",
    "  AND custom_data[\"editor_interface\"].value = \"wikitext\"\n",
    "  AND year = 2023\n",
    "  AND month= 2\n",
    "  AND mediawiki.database = \"testwiki\"\n",
    "  GROUP BY name\n",
    "''')\n"
   ]
  },
  {
   "cell_type": "code",
   "execution_count": 98,
   "id": "e6af2da6-703e-41e3-a2e4-7eec1d613479",
   "metadata": {},
   "outputs": [
    {
     "data": {
      "text/html": [
       "<div>\n",
       "<style scoped>\n",
       "    .dataframe tbody tr th:only-of-type {\n",
       "        vertical-align: middle;\n",
       "    }\n",
       "\n",
       "    .dataframe tbody tr th {\n",
       "        vertical-align: top;\n",
       "    }\n",
       "\n",
       "    .dataframe thead th {\n",
       "        text-align: right;\n",
       "    }\n",
       "</style>\n",
       "<table border=\"1\" class=\"dataframe\">\n",
       "  <thead>\n",
       "    <tr style=\"text-align: right;\">\n",
       "      <th></th>\n",
       "      <th>name</th>\n",
       "      <th>desktop_events</th>\n",
       "    </tr>\n",
       "  </thead>\n",
       "  <tbody>\n",
       "    <tr>\n",
       "      <th>1</th>\n",
       "      <td>eas.wt.ready</td>\n",
       "      <td>801</td>\n",
       "    </tr>\n",
       "    <tr>\n",
       "      <th>0</th>\n",
       "      <td>eas.wt.loaded</td>\n",
       "      <td>801</td>\n",
       "    </tr>\n",
       "    <tr>\n",
       "      <th>3</th>\n",
       "      <td>eas.wt.abort</td>\n",
       "      <td>344</td>\n",
       "    </tr>\n",
       "    <tr>\n",
       "      <th>2</th>\n",
       "      <td>eas.wt.first_change</td>\n",
       "      <td>291</td>\n",
       "    </tr>\n",
       "  </tbody>\n",
       "</table>\n",
       "</div>"
      ],
      "text/plain": [
       "                  name  desktop_events\n",
       "1         eas.wt.ready             801\n",
       "0        eas.wt.loaded             801\n",
       "3         eas.wt.abort             344\n",
       "2  eas.wt.first_change             291"
      ]
     },
     "execution_count": 98,
     "metadata": {},
     "output_type": "execute_result"
    }
   ],
   "source": [
    "desktop_wt_mea_query.sort_values(by=['desktop_events','name'], ascending=False)"
   ]
  },
  {
   "cell_type": "code",
   "execution_count": 99,
   "id": "e9189ac3-d95a-4403-885f-4a8236b37add",
   "metadata": {},
   "outputs": [
    {
     "data": {
      "text/plain": [
       "2237"
      ]
     },
     "execution_count": 99,
     "metadata": {},
     "output_type": "execute_result"
    }
   ],
   "source": [
    "desktop_wt_mea_query.desktop_events.sum()"
   ]
  },
  {
   "cell_type": "markdown",
   "id": "70109e6d-66e7-4a0d-a99e-b65f97306f52",
   "metadata": {},
   "source": [
    "As expected, wikitext events on Desktop dont match because Metrics Platform is not coded for PHP clients. Metrics platform is blocked by [T281762](https://phabricator.wikimedia.org/T281762) to track the sever-side events.   "
   ]
  },
  {
   "cell_type": "code",
   "execution_count": null,
   "id": "e814cd61-d436-40c9-b81d-8f68451d86b2",
   "metadata": {},
   "outputs": [],
   "source": []
  }
 ],
 "metadata": {
  "kernelspec": {
   "display_name": "Python 3 (ipykernel)",
   "language": "python",
   "name": "python3"
  },
  "language_info": {
   "codemirror_mode": {
    "name": "ipython",
    "version": 3
   },
   "file_extension": ".py",
   "mimetype": "text/x-python",
   "name": "python",
   "nbconvert_exporter": "python",
   "pygments_lexer": "ipython3",
   "version": "3.7.13"
  }
 },
 "nbformat": 4,
 "nbformat_minor": 5
}
